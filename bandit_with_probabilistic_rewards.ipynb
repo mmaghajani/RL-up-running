{
  "nbformat": 4,
  "nbformat_minor": 0,
  "metadata": {
    "colab": {
      "name": "bandit_with_probabilistic_rewards.ipynb",
      "provenance": [],
      "toc_visible": true,
      "authorship_tag": "ABX9TyNd+4Tn8oPu43SKzYAMOO4S",
      "include_colab_link": true
    },
    "kernelspec": {
      "name": "python3",
      "display_name": "Python 3"
    },
    "language_info": {
      "name": "python"
    }
  },
  "cells": [
    {
      "cell_type": "markdown",
      "metadata": {
        "id": "view-in-github",
        "colab_type": "text"
      },
      "source": [
        "<a href=\"https://colab.research.google.com/github/mmaghajani/RL-up-running/blob/main/bandit_with_probabilistic_rewards.ipynb\" target=\"_parent\"><img src=\"https://colab.research.google.com/assets/colab-badge.svg\" alt=\"Open In Colab\"/></a>"
      ]
    },
    {
      "cell_type": "code",
      "metadata": {
        "id": "U9PxLc91bx5g"
      },
      "source": [
        "import matplotlib.pyplot as plt\n",
        "import numpy as np"
      ],
      "execution_count": 1,
      "outputs": []
    },
    {
      "cell_type": "markdown",
      "metadata": {
        "id": "oUWYw69KewZG"
      },
      "source": [
        "### epsilon greedy\n"
      ]
    },
    {
      "cell_type": "code",
      "metadata": {
        "id": "ItTgKbJBVu7b"
      },
      "source": [
        "NUM_TRIALS = 2000\n",
        "EPS = 0.1\n",
        "BANDIT_PROBABILITIES = [3, 6, 10]"
      ],
      "execution_count": 12,
      "outputs": []
    },
    {
      "cell_type": "code",
      "metadata": {
        "id": "27GKj0riV2Qo"
      },
      "source": [
        "class Bandit:\n",
        "  def __init__(self, mean, var):\n",
        "    self.mean = mean\n",
        "    self.var = var\n",
        "    self.p_estimate = 0.\n",
        "    self.N = 0\n",
        "\n",
        "  def pull(self):\n",
        "    return np.random.normal(loc=self.mean, scale=self.var)\n",
        "\n",
        "  def update(self, x):\n",
        "    self.N += 1.\n",
        "    self.p_estimate = ((self.N - 1)*self.p_estimate + x ) / self.N"
      ],
      "execution_count": 13,
      "outputs": []
    },
    {
      "cell_type": "code",
      "metadata": {
        "id": "cAhwTrP_WS7I"
      },
      "source": [
        "def experiment():\n",
        "  bandits = [Bandit(mean=p, var=2) for p in BANDIT_PROBABILITIES]\n",
        "\n",
        "  rewards = np.zeros(NUM_TRIALS)\n",
        "  num_times_explored = 0\n",
        "  num_times_exploited = 0\n",
        "  num_optimal = 0\n",
        "  optimal_j = np.argmax([bandit.mean for bandit in bandits])\n",
        "  print(\"optimal j: \", optimal_j)\n",
        "\n",
        "  for i in range(NUM_TRIALS):\n",
        "\n",
        "    if np.random.random() < EPS:\n",
        "      num_times_explored += 1 \n",
        "      j = np.random.randint(len(bandits))\n",
        "    else:\n",
        "      num_times_exploited += 1\n",
        "      j = np.argmax([b.p_estimate for b in bandits])\n",
        "\n",
        "    if j == optimal_j:\n",
        "      num_optimal += 1\n",
        "\n",
        "    x = bandits[j].pull()\n",
        "\n",
        "    rewards[i] = x\n",
        "\n",
        "    bandits[j].update(x)\n",
        "\n",
        "  for b in bandits:\n",
        "        print(\"mean estimate:\", b.p_estimate)\n",
        "\n",
        "  # print total reward\n",
        "  print(\"total reward earned:\", rewards.sum())\n",
        "  print(\"overall win rate:\", rewards.sum() / NUM_TRIALS)\n",
        "  print(\"num_times_explored:\", num_times_explored)\n",
        "  print(\"num_times_exploited:\", num_times_exploited)\n",
        "  print(\"num times selected optimal bandit:\", num_optimal)\n",
        "\n",
        "  \n",
        "  # plot the results\n",
        "  cumulative_rewards = np.cumsum(rewards)\n",
        "  win_rates = cumulative_rewards / (np.arange(NUM_TRIALS) + 1)\n",
        "  plt.plot(win_rates)\n",
        "  plt.plot(np.ones(NUM_TRIALS)*np.max(BANDIT_PROBABILITIES))\n",
        "  plt.show()"
      ],
      "execution_count": 16,
      "outputs": []
    },
    {
      "cell_type": "code",
      "metadata": {
        "colab": {
          "base_uri": "https://localhost:8080/",
          "height": 418
        },
        "id": "JJ0rRqdeYM4Z",
        "outputId": "6691c2c1-715f-4754-a90f-d0801fca4762"
      },
      "source": [
        "experiment()"
      ],
      "execution_count": 19,
      "outputs": [
        {
          "output_type": "stream",
          "text": [
            "optimal j:  2\n",
            "mean estimate: 3.223266285173581\n",
            "mean estimate: 6.363806923730746\n",
            "mean estimate: 10.074029090499975\n",
            "total reward earned: 19259.781495820665\n",
            "overall win rate: 9.629890747910332\n",
            "num_times_explored: 203\n",
            "num_times_exploited: 1797\n",
            "num times selected optimal bandit: 1841\n"
          ],
          "name": "stdout"
        },
        {
          "output_type": "display_data",
          "data": {
            "image/png": "[encoded data removed]",
            "text/plain": [
              "<Figure size 432x288 with 1 Axes>"
            ]
          },
          "metadata": {
            "needs_background": "light"
          }
        }
      ]
    },
    {
      "cell_type": "code",
      "metadata": {
        "id": "gdJL9MUVYVfU"
      },
      "source": [
        ""
      ],
      "execution_count": null,
      "outputs": []
    },
    {
      "cell_type": "code",
      "metadata": {
        "id": "i9oexP_6cvIu"
      },
      "source": [
        ""
      ],
      "execution_count": null,
      "outputs": []
    },
    {
      "cell_type": "markdown",
      "metadata": {
        "id": "kC1gHRBhkgBs"
      },
      "source": [
        "### Upper Confidence Bound"
      ]
    },
    {
      "cell_type": "code",
      "metadata": {
        "id": "E4qHtXpBkqpF"
      },
      "source": [
        "NUM_TRIALS = 2000\n",
        "EPS = 0.1\n",
        "BANDIT_PROBABILITIES = [3, 6, 10]"
      ],
      "execution_count": 21,
      "outputs": []
    },
    {
      "cell_type": "code",
      "metadata": {
        "id": "3vCikLYEkqpG"
      },
      "source": [
        "class Bandit:\n",
        "  def __init__(self, mean, var):\n",
        "    self.mean = mean\n",
        "    self.var = var\n",
        "    self.p_estimate = 0.\n",
        "    self.N = 0\n",
        "\n",
        "  def pull(self):\n",
        "    return np.random.normal(loc=self.mean, scale=self.var)\n",
        "\n",
        "  def update(self, x):\n",
        "    self.N += 1.\n",
        "    self.p_estimate = ((self.N - 1)*self.p_estimate + x ) / self.N"
      ],
      "execution_count": 25,
      "outputs": []
    },
    {
      "cell_type": "code",
      "metadata": {
        "id": "62wH9QF_kqpG"
      },
      "source": [
        "def experiment(c=1):\n",
        "  bandits = [Bandit(mean=p, var=2) for p in BANDIT_PROBABILITIES]\n",
        "\n",
        "  rewards = np.zeros(NUM_TRIALS)\n",
        "  num_optimal = 0\n",
        "  optimal_j = np.argmax([bandit.mean for bandit in bandits])\n",
        "  print(\"optimal j: \", optimal_j)\n",
        "\n",
        "  for i in range(NUM_TRIALS):\n",
        "\n",
        "    j = np.argmax([bandit.p_estimate + c*np.sqrt(np.log1p(i)/bandit.N) for bandit in bandits])\n",
        "\n",
        "    if j == optimal_j:\n",
        "      num_optimal += 1\n",
        "\n",
        "    x = bandits[j].pull()\n",
        "\n",
        "    rewards[i] = x\n",
        "\n",
        "    bandits[j].update(x)\n",
        "\n",
        "  for b in bandits:\n",
        "        print(\"mean estimate:\", b.p_estimate)\n",
        "\n",
        "  # print total reward\n",
        "  print(\"total reward earned:\", rewards.sum())\n",
        "  print(\"overall win rate:\", rewards.sum() / NUM_TRIALS)\n",
        "  print(\"num times selected optimal bandit:\", num_optimal)\n",
        "\n",
        "  \n",
        "  # plot the results\n",
        "  cumulative_rewards = np.cumsum(rewards)\n",
        "  win_rates = cumulative_rewards / (np.arange(NUM_TRIALS) + 1)\n",
        "  plt.plot(win_rates)\n",
        "  plt.plot(np.ones(NUM_TRIALS)*np.max(BANDIT_PROBABILITIES))\n",
        "  plt.show()"
      ],
      "execution_count": 33,
      "outputs": []
    },
    {
      "cell_type": "code",
      "metadata": {
        "colab": {
          "base_uri": "https://localhost:8080/",
          "height": 472
        },
        "id": "ImR0XxjqkqpH",
        "outputId": "e2141ddf-7116-44ff-8b0a-bf455b5ca912"
      },
      "source": [
        "experiment(c=1)"
      ],
      "execution_count": 37,
      "outputs": [
        {
          "output_type": "stream",
          "text": [
            "optimal j:  2\n",
            "mean estimate: 3.467544093960941\n",
            "mean estimate: 7.020415846896091\n",
            "mean estimate: 10.029329892450741\n",
            "total reward earned: 20046.080171011832\n",
            "overall win rate: 10.023040085505915\n",
            "num times selected optimal bandit: 1997\n"
          ],
          "name": "stdout"
        },
        {
          "output_type": "stream",
          "text": [
            "/usr/local/lib/python3.7/dist-packages/ipykernel_launcher.py:11: RuntimeWarning: invalid value encountered in double_scalars\n",
            "  # This is added back by InteractiveShellApp.init_path()\n",
            "/usr/local/lib/python3.7/dist-packages/ipykernel_launcher.py:11: RuntimeWarning: divide by zero encountered in double_scalars\n",
            "  # This is added back by InteractiveShellApp.init_path()\n"
          ],
          "name": "stderr"
        },
        {
          "output_type": "display_data",
          "data": {
            "image/png": "[encoded data removed]",
            "text/plain": [
              "<Figure size 432x288 with 1 Axes>"
            ]
          },
          "metadata": {
            "needs_background": "light"
          }
        }
      ]
    },
    {
      "cell_type": "code",
      "metadata": {
        "colab": {
          "base_uri": "https://localhost:8080/",
          "height": 472
        },
        "id": "pFbPcSfokqpI",
        "outputId": "979a7c0e-ca37-4249-ff64-e9274a869a28"
      },
      "source": [
        "experiment(c=100)"
      ],
      "execution_count": 38,
      "outputs": [
        {
          "output_type": "stream",
          "text": [
            "optimal j:  2\n",
            "mean estimate: 3.143880497374656\n",
            "mean estimate: 5.939213218268237\n",
            "mean estimate: 9.988518427619923\n",
            "total reward earned: 15583.460329698657\n",
            "overall win rate: 7.791730164849328\n",
            "num times selected optimal bandit: 1149\n"
          ],
          "name": "stdout"
        },
        {
          "output_type": "stream",
          "text": [
            "/usr/local/lib/python3.7/dist-packages/ipykernel_launcher.py:11: RuntimeWarning: invalid value encountered in double_scalars\n",
            "  # This is added back by InteractiveShellApp.init_path()\n",
            "/usr/local/lib/python3.7/dist-packages/ipykernel_launcher.py:11: RuntimeWarning: divide by zero encountered in double_scalars\n",
            "  # This is added back by InteractiveShellApp.init_path()\n"
          ],
          "name": "stderr"
        },
        {
          "output_type": "display_data",
          "data": {
            "image/png": "[encoded data removed]",
            "text/plain": [
              "<Figure size 432x288 with 1 Axes>"
            ]
          },
          "metadata": {
            "needs_background": "light"
          }
        }
      ]
    },
    {
      "cell_type": "code",
      "metadata": {
        "colab": {
          "base_uri": "https://localhost:8080/",
          "height": 472
        },
        "id": "SUqe-mR5r8BS",
        "outputId": "93f47b3b-bac4-46ad-ab04-5c8795568f5c"
      },
      "source": [
        "experiment(c=0.1)"
      ],
      "execution_count": 41,
      "outputs": [
        {
          "output_type": "stream",
          "text": [
            "optimal j:  2\n",
            "mean estimate: 3.13922389266276\n",
            "mean estimate: 6.895238436293186\n",
            "mean estimate: 10.001745977414073\n",
            "total reward earned: 19993.522925202225\n",
            "overall win rate: 9.996761462601112\n",
            "num times selected optimal bandit: 1998\n"
          ],
          "name": "stdout"
        },
        {
          "output_type": "stream",
          "text": [
            "/usr/local/lib/python3.7/dist-packages/ipykernel_launcher.py:11: RuntimeWarning: invalid value encountered in double_scalars\n",
            "  # This is added back by InteractiveShellApp.init_path()\n",
            "/usr/local/lib/python3.7/dist-packages/ipykernel_launcher.py:11: RuntimeWarning: divide by zero encountered in double_scalars\n",
            "  # This is added back by InteractiveShellApp.init_path()\n"
          ],
          "name": "stderr"
        },
        {
          "output_type": "display_data",
          "data": {
            "image/png": "[encoded data removed]",
            "text/plain": [
              "<Figure size 432x288 with 1 Axes>"
            ]
          },
          "metadata": {
            "needs_background": "light"
          }
        }
      ]
    },
    {
      "cell_type": "code",
      "metadata": {
        "id": "n5x0_6rlr90V"
      },
      "source": [
        ""
      ],
      "execution_count": null,
      "outputs": []
    }
  ]
}