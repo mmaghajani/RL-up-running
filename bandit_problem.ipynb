{
  "nbformat": 4,
  "nbformat_minor": 0,
  "metadata": {
    "colab": {
      "name": "bandit_problem.ipynb",
      "provenance": [],
      "authorship_tag": "ABX9TyPR5+1c1uX+UrkbjkV+CJPN",
      "include_colab_link": true
    },
    "kernelspec": {
      "name": "python3",
      "display_name": "Python 3"
    },
    "language_info": {
      "name": "python"
    }
  },
  "cells": [
    {
      "cell_type": "markdown",
      "metadata": {
        "id": "view-in-github",
        "colab_type": "text"
      },
      "source": [
        "<a href=\"https://colab.research.google.com/github/mmaghajani/RL-up-running/blob/main/bandit_problem.ipynb\" target=\"_parent\"><img src=\"https://colab.research.google.com/assets/colab-badge.svg\" alt=\"Open In Colab\"/></a>"
      ]
    },
    {
      "cell_type": "code",
      "metadata": {
        "id": "ZeYf8VFSVVQR"
      },
      "source": [
        "import matplotlib.pyplot as plt\n",
        "import numpy as np"
      ],
      "execution_count": 1,
      "outputs": []
    },
    {
      "cell_type": "markdown",
      "metadata": {
        "id": "oUWYw69KewZG"
      },
      "source": [
        "### epsilon greedy\n"
      ]
    },
    {
      "cell_type": "code",
      "metadata": {
        "id": "ItTgKbJBVu7b"
      },
      "source": [
        "NUM_TRIALS = 2000\n",
        "EPS = 0.1\n",
        "BANDIT_PROBABILITIES = [0.2, 0.5, 0.75]"
      ],
      "execution_count": 2,
      "outputs": []
    },
    {
      "cell_type": "code",
      "metadata": {
        "id": "27GKj0riV2Qo"
      },
      "source": [
        "class Bandit:\n",
        "  def __init__(self, p):\n",
        "    self.p = p\n",
        "    self.p_estimate = 0.\n",
        "    self.N = 0\n",
        "\n",
        "  def pull(self):\n",
        "    return np.random.random() < self.p\n",
        "\n",
        "  def update(self, x):\n",
        "    self.N += 1.\n",
        "    self.p_estimate = ((self.N - 1)*self.p_estimate + x ) / self.N"
      ],
      "execution_count": 7,
      "outputs": []
    },
    {
      "cell_type": "code",
      "metadata": {
        "id": "cAhwTrP_WS7I"
      },
      "source": [
        "def experiment():\n",
        "  bandits = [Bandit(p) for p in BANDIT_PROBABILITIES]\n",
        "\n",
        "  rewards = np.zeros(NUM_TRIALS)\n",
        "  num_times_explored = 0\n",
        "  num_times_exploited = 0\n",
        "  num_optimal = 0\n",
        "  optimal_j = np.argmax([bandit.p for bandit in bandits])\n",
        "  print(\"optimal j: \", optimal_j)\n",
        "\n",
        "  for i in range(NUM_TRIALS):\n",
        "\n",
        "    if np.random.random() < EPS:\n",
        "      num_times_explored += 1 \n",
        "      j = np.random.randint(len(bandits))\n",
        "    else:\n",
        "      num_times_exploited += 1\n",
        "      j = np.argmax([b.p_estimate for b in bandits])\n",
        "\n",
        "    if j == optimal_j:\n",
        "      num_optimal += 1\n",
        "\n",
        "    x = bandits[j].pull()\n",
        "\n",
        "    rewards[i] = x\n",
        "\n",
        "    bandits[j].update(x)\n",
        "\n",
        "  for b in bandits:\n",
        "        print(\"mean estimate:\", b.p_estimate)\n",
        "\n",
        "  # print total reward\n",
        "  print(\"total reward earned:\", rewards.sum())\n",
        "  print(\"overall win rate:\", rewards.sum() / NUM_TRIALS)\n",
        "  print(\"num_times_explored:\", num_times_explored)\n",
        "  print(\"num_times_exploited:\", num_times_exploited)\n",
        "  print(\"num times selected optimal bandit:\", num_optimal)\n",
        "\n",
        "  \n",
        "  # plot the results\n",
        "  cumulative_rewards = np.cumsum(rewards)\n",
        "  win_rates = cumulative_rewards / (np.arange(NUM_TRIALS) + 1)\n",
        "  plt.plot(win_rates)\n",
        "  plt.plot(np.ones(NUM_TRIALS)*np.max(BANDIT_PROBABILITIES))\n",
        "  plt.show()"
      ],
      "execution_count": 10,
      "outputs": []
    },
    {
      "cell_type": "code",
      "metadata": {
        "colab": {
          "base_uri": "https://localhost:8080/",
          "height": 418
        },
        "id": "JJ0rRqdeYM4Z",
        "outputId": "cd464e90-dec2-4e8f-f5c7-9a64da28c72f"
      },
      "source": [
        "experiment()"
      ],
      "execution_count": 13,
      "outputs": [
        {
          "output_type": "stream",
          "text": [
            "optimal j:  2\n",
            "mean estimate: 0.19444444444444445\n",
            "mean estimate: 0.5802469135802469\n",
            "mean estimate: 0.7536545749864644\n",
            "total reward earned: 1453.0\n",
            "overall win rate: 0.7265\n",
            "num_times_explored: 187\n",
            "num_times_exploited: 1813\n",
            "num times selected optimal bandit: 1847\n"
          ],
          "name": "stdout"
        },
        {
          "output_type": "display_data",
          "data": {
            "image/png": "[encoded data removed]",
            "text/plain": [
              "<Figure size 432x288 with 1 Axes>"
            ]
          },
          "metadata": {
            "needs_background": "light"
          }
        }
      ]
    },
    {
      "cell_type": "code",
      "metadata": {
        "id": "gdJL9MUVYVfU"
      },
      "source": [
        ""
      ],
      "execution_count": null,
      "outputs": []
    },
    {
      "cell_type": "markdown",
      "metadata": {
        "id": "j2-iG9XNe0UA"
      },
      "source": [
        "### optimistic greedy"
      ]
    },
    {
      "cell_type": "code",
      "metadata": {
        "id": "ouTqBXa0b1zw"
      },
      "source": [
        "NUM_TRIALS = 2000\n",
        "BANDIT_PROBABILITIES = [0.2, 0.5, 0.75]"
      ],
      "execution_count": null,
      "outputs": []
    },
    {
      "cell_type": "code",
      "metadata": {
        "id": "Kyxp4Vn3b2mc"
      },
      "source": [
        "class Bandit:\n",
        "  def __init__(self, p):\n",
        "    self.p = p\n",
        "    self.p_estimate = 3.\n",
        "    self.N = 0\n",
        "\n",
        "  def pull(self):\n",
        "    return np.random.random() < self.p\n",
        "\n",
        "  def update(self, x):\n",
        "    self.N += 1.\n",
        "    self.p_estimate = ((self.N - 1)*self.p_estimate + x ) / self.N"
      ],
      "execution_count": null,
      "outputs": []
    },
    {
      "cell_type": "code",
      "metadata": {
        "id": "yWHywtn-b5G7"
      },
      "source": [
        "def experiment():\n",
        "  bandits = [Bandit(p) for p in BANDIT_PROBABILITIES]\n",
        "\n",
        "  rewards = np.zeros(NUM_TRIALS)\n",
        "\n",
        "  for i in range(NUM_TRIALS):\n",
        "\n",
        "    best_win = np.argmax([b.p_estimate for b in bandits])\n",
        "    x = bandits[best_win].pull()\n",
        "    rewards[i] = x\n",
        "    bandits[best_win].update(x)\n",
        "\n",
        "  for b in bandits:\n",
        "        print(\"mean estimate:\", b.p_estimate)\n",
        "\n",
        "  # print total reward\n",
        "  print(\"total reward earned:\", rewards.sum())\n",
        "  print(\"overall win rate:\", rewards.sum() / NUM_TRIALS)\n",
        "  print(\"num times selected each bandit:\", [b.N for b in bandits])\n",
        "\n",
        "  # plot the results\n",
        "  cumulative_rewards = np.cumsum(rewards)\n",
        "  win_rates = cumulative_rewards / (np.arange(NUM_TRIALS) + 1)\n",
        "  plt.ylim([0, 1])\n",
        "  plt.plot(win_rates)\n",
        "  plt.plot(np.ones(NUM_TRIALS)*np.max(BANDIT_PROBABILITIES))\n",
        "  plt.show()"
      ],
      "execution_count": null,
      "outputs": []
    },
    {
      "cell_type": "code",
      "metadata": {
        "colab": {
          "base_uri": "https://localhost:8080/",
          "height": 418
        },
        "id": "dBkOlikSctUE",
        "outputId": "99e83206-630c-433a-9c50-321782318514"
      },
      "source": [
        "experiment()"
      ],
      "execution_count": 48,
      "outputs": [
        {
          "output_type": "stream",
          "text": [
            "optimal j:  2\n",
            "mean estimate: 0.2093023255813954\n",
            "mean estimate: 0.5384615384615384\n",
            "mean estimate: 0.7555670636975669\n",
            "total reward earned: 1482.0\n",
            "overall win rate: 0.741\n",
            "num_times_explored: 104\n",
            "num_times_exploited: 1896\n",
            "num times selected optimal bandit: 1931\n"
          ],
          "name": "stdout"
        },
        {
          "output_type": "display_data",
          "data": {
            "image/png": "[encoded data removed]",
            "text/plain": [
              "<Figure size 432x288 with 1 Axes>"
            ]
          },
          "metadata": {
            "needs_background": "light"
          }
        }
      ]
    },
    {
      "cell_type": "markdown",
      "metadata": {
        "id": "QB8EYw6Ie_zZ"
      },
      "source": [
        "### optimistic epsilon greedy"
      ]
    },
    {
      "cell_type": "code",
      "metadata": {
        "id": "5b2g2kPffGU4"
      },
      "source": [
        "NUM_TRIALS = 2000\n",
        "EPS = 0.05\n",
        "BANDIT_PROBABILITIES = [0.2, 0.5, 0.75]"
      ],
      "execution_count": 30,
      "outputs": []
    },
    {
      "cell_type": "code",
      "metadata": {
        "id": "MWJpWLWTfGU4"
      },
      "source": [
        "class Bandit:\n",
        "  def __init__(self, p):\n",
        "    self.p = p\n",
        "    self.p_estimate = 3.\n",
        "    self.N = 0\n",
        "\n",
        "  def pull(self):\n",
        "    return np.random.random() < self.p\n",
        "\n",
        "  def update(self, x):\n",
        "    self.N += 1.\n",
        "    self.p_estimate = ((self.N - 1)*self.p_estimate + x ) / self.N"
      ],
      "execution_count": 31,
      "outputs": []
    },
    {
      "cell_type": "code",
      "metadata": {
        "id": "_yCBY2fPfGU5"
      },
      "source": [
        "def experiment():\n",
        "  bandits = [Bandit(p) for p in BANDIT_PROBABILITIES]\n",
        "\n",
        "  rewards = np.zeros(NUM_TRIALS)\n",
        "  num_times_explored = 0\n",
        "  num_times_exploited = 0\n",
        "  num_optimal = 0\n",
        "  optimal_j = np.argmax([bandit.p for bandit in bandits])\n",
        "  print(\"optimal j: \", optimal_j)\n",
        "\n",
        "  for i in range(NUM_TRIALS):\n",
        "\n",
        "    if np.random.random() < EPS:\n",
        "      num_times_explored += 1 \n",
        "      j = np.random.randint(len(bandits))\n",
        "    else:\n",
        "      num_times_exploited += 1\n",
        "      j = np.argmax([b.p_estimate for b in bandits])\n",
        "\n",
        "    if j == optimal_j:\n",
        "      num_optimal += 1\n",
        "\n",
        "    x = bandits[j].pull()\n",
        "\n",
        "    rewards[i] = x\n",
        "\n",
        "    bandits[j].update(x)\n",
        "\n",
        "  for b in bandits:\n",
        "        print(\"mean estimate:\", b.p_estimate)\n",
        "\n",
        "  # print total reward\n",
        "  print(\"total reward earned:\", rewards.sum())\n",
        "  print(\"overall win rate:\", rewards.sum() / NUM_TRIALS)\n",
        "  print(\"num_times_explored:\", num_times_explored)\n",
        "  print(\"num_times_exploited:\", num_times_exploited)\n",
        "  print(\"num times selected optimal bandit:\", num_optimal)\n",
        "\n",
        "  \n",
        "  # plot the results\n",
        "  cumulative_rewards = np.cumsum(rewards)\n",
        "  win_rates = cumulative_rewards / (np.arange(NUM_TRIALS) + 1)\n",
        "  plt.plot(win_rates)\n",
        "  plt.plot(np.ones(NUM_TRIALS)*np.max(BANDIT_PROBABILITIES))\n",
        "  plt.show()"
      ],
      "execution_count": 32,
      "outputs": []
    },
    {
      "cell_type": "code",
      "metadata": {
        "colab": {
          "base_uri": "https://localhost:8080/",
          "height": 418
        },
        "id": "-G2xDgQ9fGU5",
        "outputId": "f3275a7f-74bb-4e48-d706-0f113376acd7"
      },
      "source": [
        "experiment()"
      ],
      "execution_count": 43,
      "outputs": [
        {
          "output_type": "stream",
          "text": [
            "optimal j:  2\n",
            "mean estimate: 0.3\n",
            "mean estimate: 0.6052631578947368\n",
            "mean estimate: 0.75879917184265\n",
            "total reward earned: 1498.0\n",
            "overall win rate: 0.749\n",
            "num_times_explored: 96\n",
            "num_times_exploited: 1904\n",
            "num times selected optimal bandit: 1932\n"
          ],
          "name": "stdout"
        },
        {
          "output_type": "display_data",
          "data": {
            "image/png": "[encoded data removed]",
            "text/plain": [
              "<Figure size 432x288 with 1 Axes>"
            ]
          },
          "metadata": {
            "needs_background": "light"
          }
        }
      ]
    },
    {
      "cell_type": "code",
      "metadata": {
        "id": "VplqLxEVfNff"
      },
      "source": [
        ""
      ],
      "execution_count": null,
      "outputs": []
    }
  ]
}