{
  "nbformat": 4,
  "nbformat_minor": 0,
  "metadata": {
    "kernelspec": {
      "display_name": "Python 3",
      "language": "python",
      "name": "python3"
    },
    "language_info": {
      "codemirror_mode": {
        "name": "ipython",
        "version": 3
      },
      "file_extension": ".py",
      "mimetype": "text/x-python",
      "name": "python",
      "nbconvert_exporter": "python",
      "pygments_lexer": "ipython3",
      "version": "3.8.3"
    },
    "colab": {
      "name": "DQN_CartPole.ipynb",
      "provenance": [],
      "include_colab_link": true
    }
  },
  "cells": [
    {
      "cell_type": "markdown",
      "metadata": {
        "id": "view-in-github",
        "colab_type": "text"
      },
      "source": [
        "<a href=\"https://colab.research.google.com/github/mmaghajani/RL-up-running/blob/main/DQN_CartPole.ipynb\" target=\"_parent\"><img src=\"https://colab.research.google.com/assets/colab-badge.svg\" alt=\"Open In Colab\"/></a>"
      ]
    },
    {
      "cell_type": "markdown",
      "metadata": {
        "id": "Ad_4GmqUKxyS"
      },
      "source": [
        "### Setup"
      ]
    },
    {
      "cell_type": "code",
      "metadata": {
        "colab": {
          "base_uri": "https://localhost:8080/"
        },
        "id": "JKo6D8skK0SD",
        "outputId": "19fcdd6e-d672-4ef2-b3f2-a2ac83c49220"
      },
      "source": [
        "!pip install -q mujoco_py==2.0.2.8\n",
        "!pip install -q 'gym[all]'"
      ],
      "execution_count": 1,
      "outputs": [
        {
          "output_type": "stream",
          "name": "stdout",
          "text": [
            "\u001b[K     |████████████████████████████████| 4.0 MB 5.1 MB/s \n",
            "\u001b[K     |████████████████████████████████| 204 kB 39.6 MB/s \n",
            "\u001b[K     |████████████████████████████████| 448 kB 5.2 MB/s \n",
            "\u001b[K     |████████████████████████████████| 120 kB 66.1 MB/s \n",
            "\u001b[?25h  Building wheel for mujoco-py (setup.py) ... \u001b[?25lerror\n",
            "\u001b[31m  ERROR: Failed building wheel for mujoco-py\u001b[0m\n",
            "\u001b[?25h    Running setup.py install for mujoco-py ... \u001b[?25l\u001b[?25herror\n",
            "\u001b[31mERROR: Command errored out with exit status 1: /usr/bin/python3 -u -c 'import io, os, sys, setuptools, tokenize; sys.argv[0] = '\"'\"'/tmp/pip-install-x1b0oafv/mujoco-py_a5b1baae93fd4eb78c63cfd3b53bf7f9/setup.py'\"'\"'; __file__='\"'\"'/tmp/pip-install-x1b0oafv/mujoco-py_a5b1baae93fd4eb78c63cfd3b53bf7f9/setup.py'\"'\"';f = getattr(tokenize, '\"'\"'open'\"'\"', open)(__file__) if os.path.exists(__file__) else io.StringIO('\"'\"'from setuptools import setup; setup()'\"'\"');code = f.read().replace('\"'\"'\\r\\n'\"'\"', '\"'\"'\\n'\"'\"');f.close();exec(compile(code, __file__, '\"'\"'exec'\"'\"'))' install --record /tmp/pip-record-j6kawmpm/install-record.txt --single-version-externally-managed --compile --install-headers /usr/local/include/python3.7/mujoco-py Check the logs for full command output.\u001b[0m\n"
          ]
        }
      ]
    },
    {
      "cell_type": "code",
      "metadata": {
        "id": "BQuFPlkTKduo"
      },
      "source": [
        "import numpy as np\n",
        "import tensorflow as tf\n",
        "from tensorflow import keras\n",
        "from tensorflow.keras.optimizers import Adam\n",
        "from tensorflow.keras.models import load_model"
      ],
      "execution_count": 2,
      "outputs": []
    },
    {
      "cell_type": "markdown",
      "metadata": {
        "id": "g2vvMsyTLPCE"
      },
      "source": [
        "### Replay Buffer"
      ]
    },
    {
      "cell_type": "code",
      "metadata": {
        "id": "QfBjciU0Kduq"
      },
      "source": [
        "class ReplayBuffer():\n",
        "    def __init__(self,mem_size,input_dim):\n",
        "        self.mem_size = mem_size\n",
        "        self.mem_cntr = 0\n",
        "        self.state_memory = np.zeros((self.mem_size,*input_dim),dtype=np.float32)\n",
        "        self.new_state_memory = np.zeros((self.mem_size,*input_dim),dtype=np.float32)\n",
        "        self.action_memory = np.zeros(self.mem_size,dtype=np.int32)\n",
        "        self.reward_memory =  np.zeros(self.mem_size,dtype=np.float32)\n",
        "        self.terminal_memory = np.zeros(self.mem_size,dtype=np.int32)\n",
        "        \n",
        "    def store_transition(self,state,action,reward,next_state,done):\n",
        "        index = self.mem_cntr % self.mem_size\n",
        "        self.state_memory[index] = state\n",
        "        self.new_state_memory[index] = next_state\n",
        "        self.action_memory[index] = action \n",
        "        self.reward_memory[index] = reward \n",
        "        self.terminal_memory[index] = 1-int(done)\n",
        "        self.mem_cntr +=1\n",
        "        \n",
        "    def sample_buffer(self,batch_size):\n",
        "        max_mem = min(self.mem_cntr,self.mem_size)\n",
        "        batch = np.random.choice(max_mem,batch_size,replace=False)\n",
        "        \n",
        "        states = self.state_memory[batch] \n",
        "        next_states = self.new_state_memory[batch] \n",
        "        actions = self.action_memory[batch] \n",
        "        rewards = self.reward_memory[batch] \n",
        "        terminals = self.terminal_memory[batch]\n",
        "        return states,actions,rewards,next_states,terminals\n",
        "    \n",
        "        \n",
        "        \n",
        "        "
      ],
      "execution_count": 3,
      "outputs": []
    },
    {
      "cell_type": "markdown",
      "metadata": {
        "id": "Oa4_tftDLXH_"
      },
      "source": [
        "### Build Deep-q Network"
      ]
    },
    {
      "cell_type": "code",
      "metadata": {
        "id": "iMqPXfSuKdur"
      },
      "source": [
        "def build_dqn(lr,n_actions,input_dims,fc1_dims,fc2_dims):\n",
        "    model = keras.Sequential()\n",
        "    model.add(keras.layers.Dense(fc1_dims,activation='relu'))\n",
        "    model.add(keras.layers.Dense(fc2_dims,activation='relu'))\n",
        "    model.add(keras.layers.Dense(n_actions,activation=None))\n",
        "    model.compile(optimizer=Adam(learning_rate=lr),loss='mean_squared_error')\n",
        "    \n",
        "    return model"
      ],
      "execution_count": 4,
      "outputs": []
    },
    {
      "cell_type": "code",
      "metadata": {
        "id": "xsF8bTK8Kdus"
      },
      "source": [
        "class Agent():\n",
        "\n",
        "    def __init__(self,lr,gamma,n_actions,epsilone,batch_size,input_dims,epsilone_dec=0.001\n",
        "                ,epsilone_end=0.01,mem_size=1000000,fname='dqn_cartpole_model.h5'):\n",
        "        self.action_space = [i for i in range(n_actions)]\n",
        "        self.gamma =gamma\n",
        "        self.epsilone = epsilone\n",
        "        self.eps_min = epsilone_end\n",
        "        self.eps_dec = epsilone_dec\n",
        "        self.batch_size = batch_size\n",
        "        self.model_file =fname\n",
        "        self.memory = ReplayBuffer(mem_size,input_dims)\n",
        "        self.q_eval = build_dqn(lr,n_actions,input_dims,256,256)\n",
        "        \n",
        "    def store_transition(self,state,action,reward,next_state,done):\n",
        "        self.memory.store_transition(state,action,reward,next_state,done)\n",
        "        \n",
        "    def choose_action(self,observation):\n",
        "        if np.random.random() < self.epsilone:\n",
        "            action = np.random.choice(self.action_space)\n",
        "        else:\n",
        "            state = np.array([observation])#add dimention\n",
        "            actions = self.q_eval.predict([state])\n",
        "            action = np.argmax(actions)\n",
        "            \n",
        "        return action\n",
        "    \n",
        "    def learn(self):\n",
        "        if self.memory.mem_cntr < self.batch_size:\n",
        "            return\n",
        "        \n",
        "        states,actions,rewards,next_states,terminals=\\\n",
        "        self.memory.sample_buffer(self.batch_size)\n",
        "        \n",
        "        q_eval =self.q_eval.predict(states)\n",
        "        q_next = self.q_eval.predict(next_states)\n",
        "        \n",
        "        q_target = np.copy(q_eval)\n",
        "        batch_index = np.arange(self.batch_size,dtype=np.int32)\n",
        "        q_target[batch_index,actions]=reward+terminals*self.gamma*np.max(q_next,axis=1)\n",
        "        \n",
        "        self.q_eval.train_on_batch(states,q_target)\n",
        "        self.epsilone = self.epsilone-self.eps_dec if self.epsilone > self.eps_min else self.eps_min\n",
        "        # if self.epsilone > self.eps_min:\n",
        "        #     self.epsilone *= self.eps_dec       \n",
        "    def save_model(self):\n",
        "        self.q_eval.save(self.model_file)\n",
        "        \n",
        "    def load_model(self):\n",
        "        self.q_eval = load_model(self.model_file)\n",
        "        "
      ],
      "execution_count": 5,
      "outputs": []
    },
    {
      "cell_type": "code",
      "metadata": {
        "colab": {
          "base_uri": "https://localhost:8080/"
        },
        "id": "bXmIMqYkKdut",
        "outputId": "08b433ed-0430-4543-94fa-d3cdb84db4c2"
      },
      "source": [
        "\n",
        "import gym\n",
        "\n",
        "if __name__ == '__main__':\n",
        "    tf.compat.v1.disable_eager_execution()\n",
        "    env = gym.make('CartPole-v0')\n",
        "    lr = 0.001\n",
        "    n_games = 500\n",
        "    agent=Agent(gamma = 0.99,epsilone=1,lr=lr,input_dims=env.observation_space.shape,\n",
        "               n_actions=env.action_space.n,mem_size=1000000,batch_size=64,epsilone_end=0.01)\n",
        "    \n",
        "    scores = []\n",
        "    eps_history = []\n",
        "    for i in range(n_games):\n",
        "        done=False\n",
        "        score =0\n",
        "        observation = env.reset()\n",
        "        while not done:\n",
        "            action =agent.choose_action(observation)\n",
        "            observation_, reward, done, info = env.step(action)\n",
        "            # if not done :\n",
        "            #     reward = reward\n",
        "            # else:\n",
        "            #     reward = -100\n",
        "            score +=reward\n",
        "            if reward != 1.0:\n",
        "              print(reward)\n",
        "            agent.store_transition(observation,action,reward,observation_,done)\n",
        "            \n",
        "            observation = observation_\n",
        "            \n",
        "            agent.learn()\n",
        "\n",
        "            # score += 1\n",
        "            \n",
        "        eps_history.append(agent.epsilone)\n",
        "        scores.append(score)\n",
        "        \n",
        "        avg_score = np.mean(scores[-100:])\n",
        "        print('episode: ',i,'score %.2f' % score,\n",
        "             'average_score %.2f' % avg_score,\n",
        "             'epsilone %.2f' % agent.epsilone)\n",
        "        if i% 20 ==10:\n",
        "            agent.save_model()\n",
        "        if avg_score > 190:\n",
        "            break\n",
        "        "
      ],
      "execution_count": 8,
      "outputs": [
        {
          "output_type": "stream",
          "name": "stdout",
          "text": [
            "episode:  0 score 28.00 average_score 28.00 epsilone 1.00\n",
            "episode:  1 score 15.00 average_score 21.50 epsilone 1.00\n"
          ]
        },
        {
          "output_type": "stream",
          "name": "stderr",
          "text": [
            "/usr/local/lib/python3.7/dist-packages/keras/engine/training.py:2470: UserWarning: `Model.state_updates` will be removed in a future version. This property should not be used in TensorFlow 2.0, as `updates` are applied automatically.\n",
            "  warnings.warn('`Model.state_updates` will be removed in a future version. '\n"
          ]
        },
        {
          "output_type": "stream",
          "name": "stdout",
          "text": [
            "episode:  2 score 33.00 average_score 25.33 epsilone 0.99\n",
            "episode:  3 score 10.00 average_score 21.50 epsilone 0.98\n",
            "episode:  4 score 40.00 average_score 25.20 epsilone 0.94\n",
            "episode:  5 score 30.00 average_score 26.00 epsilone 0.91\n",
            "episode:  6 score 15.00 average_score 24.43 epsilone 0.89\n",
            "episode:  7 score 23.00 average_score 24.25 epsilone 0.87\n",
            "episode:  8 score 17.00 average_score 23.44 epsilone 0.85\n",
            "episode:  9 score 13.00 average_score 22.40 epsilone 0.84\n",
            "episode:  10 score 38.00 average_score 23.82 epsilone 0.80\n",
            "episode:  11 score 20.00 average_score 23.50 epsilone 0.78\n",
            "episode:  12 score 35.00 average_score 24.38 epsilone 0.75\n",
            "episode:  13 score 34.00 average_score 25.07 epsilone 0.71\n",
            "episode:  14 score 23.00 average_score 24.93 epsilone 0.69\n",
            "episode:  15 score 21.00 average_score 24.69 epsilone 0.67\n",
            "episode:  16 score 10.00 average_score 23.82 epsilone 0.66\n",
            "episode:  17 score 16.00 average_score 23.39 epsilone 0.64\n",
            "episode:  18 score 12.00 average_score 22.79 epsilone 0.63\n",
            "episode:  19 score 11.00 average_score 22.20 epsilone 0.62\n",
            "episode:  20 score 24.00 average_score 22.29 epsilone 0.59\n",
            "episode:  21 score 16.00 average_score 22.00 epsilone 0.58\n",
            "episode:  22 score 9.00 average_score 21.43 epsilone 0.57\n",
            "episode:  23 score 16.00 average_score 21.21 epsilone 0.55\n",
            "episode:  24 score 13.00 average_score 20.88 epsilone 0.54\n",
            "episode:  25 score 18.00 average_score 20.77 epsilone 0.52\n",
            "episode:  26 score 13.00 average_score 20.48 epsilone 0.51\n",
            "episode:  27 score 12.00 average_score 20.18 epsilone 0.50\n",
            "episode:  28 score 13.00 average_score 19.93 epsilone 0.48\n",
            "episode:  29 score 19.00 average_score 19.90 epsilone 0.47\n",
            "episode:  30 score 17.00 average_score 19.81 epsilone 0.45\n",
            "episode:  31 score 12.00 average_score 19.56 epsilone 0.44\n",
            "episode:  32 score 15.00 average_score 19.42 epsilone 0.42\n",
            "episode:  33 score 12.00 average_score 19.21 epsilone 0.41\n",
            "episode:  34 score 11.00 average_score 18.97 epsilone 0.40\n",
            "episode:  35 score 11.00 average_score 18.75 epsilone 0.39\n",
            "episode:  36 score 15.00 average_score 18.65 epsilone 0.37\n",
            "episode:  37 score 9.00 average_score 18.39 epsilone 0.36\n",
            "episode:  38 score 13.00 average_score 18.26 epsilone 0.35\n",
            "episode:  39 score 11.00 average_score 18.07 epsilone 0.34\n",
            "episode:  40 score 13.00 average_score 17.95 epsilone 0.33\n",
            "episode:  41 score 10.00 average_score 17.76 epsilone 0.32\n",
            "episode:  42 score 13.00 average_score 17.65 epsilone 0.30\n",
            "episode:  43 score 14.00 average_score 17.57 epsilone 0.29\n",
            "episode:  44 score 18.00 average_score 17.58 epsilone 0.27\n",
            "episode:  45 score 10.00 average_score 17.41 epsilone 0.26\n",
            "episode:  46 score 10.00 average_score 17.26 epsilone 0.25\n",
            "episode:  47 score 10.00 average_score 17.10 epsilone 0.24\n",
            "episode:  48 score 10.00 average_score 16.96 epsilone 0.23\n",
            "episode:  49 score 12.00 average_score 16.86 epsilone 0.22\n",
            "episode:  50 score 9.00 average_score 16.71 epsilone 0.21\n",
            "episode:  51 score 14.00 average_score 16.65 epsilone 0.20\n",
            "episode:  52 score 10.00 average_score 16.53 epsilone 0.19\n",
            "episode:  53 score 12.00 average_score 16.44 epsilone 0.17\n",
            "episode:  54 score 12.00 average_score 16.36 epsilone 0.16\n",
            "episode:  55 score 9.00 average_score 16.23 epsilone 0.15\n",
            "episode:  56 score 10.00 average_score 16.12 epsilone 0.14\n",
            "episode:  57 score 10.00 average_score 16.02 epsilone 0.13\n",
            "episode:  58 score 10.00 average_score 15.92 epsilone 0.12\n",
            "episode:  59 score 8.00 average_score 15.78 epsilone 0.12\n",
            "episode:  60 score 9.00 average_score 15.67 epsilone 0.11\n",
            "episode:  61 score 9.00 average_score 15.56 epsilone 0.10\n",
            "episode:  62 score 10.00 average_score 15.48 epsilone 0.09\n",
            "episode:  63 score 9.00 average_score 15.38 epsilone 0.08\n",
            "episode:  64 score 9.00 average_score 15.28 epsilone 0.07\n",
            "episode:  65 score 9.00 average_score 15.18 epsilone 0.06\n",
            "episode:  66 score 9.00 average_score 15.09 epsilone 0.05\n",
            "episode:  67 score 9.00 average_score 15.00 epsilone 0.04\n",
            "episode:  68 score 12.00 average_score 14.96 epsilone 0.03\n",
            "episode:  69 score 10.00 average_score 14.89 epsilone 0.02\n",
            "episode:  70 score 10.00 average_score 14.82 epsilone 0.01\n",
            "episode:  71 score 10.00 average_score 14.75 epsilone 0.01\n",
            "episode:  72 score 10.00 average_score 14.68 epsilone 0.01\n",
            "episode:  73 score 10.00 average_score 14.62 epsilone 0.01\n",
            "episode:  74 score 8.00 average_score 14.53 epsilone 0.01\n",
            "episode:  75 score 10.00 average_score 14.47 epsilone 0.01\n",
            "episode:  76 score 11.00 average_score 14.43 epsilone 0.01\n",
            "episode:  77 score 10.00 average_score 14.37 epsilone 0.01\n",
            "episode:  78 score 23.00 average_score 14.48 epsilone 0.01\n",
            "episode:  79 score 79.00 average_score 15.29 epsilone 0.01\n",
            "episode:  80 score 10.00 average_score 15.22 epsilone 0.01\n",
            "episode:  81 score 18.00 average_score 15.26 epsilone 0.01\n",
            "episode:  82 score 41.00 average_score 15.57 epsilone 0.01\n",
            "episode:  83 score 33.00 average_score 15.77 epsilone 0.01\n",
            "episode:  84 score 28.00 average_score 15.92 epsilone 0.01\n",
            "episode:  85 score 27.00 average_score 16.05 epsilone 0.01\n",
            "episode:  86 score 22.00 average_score 16.11 epsilone 0.01\n",
            "episode:  87 score 84.00 average_score 16.89 epsilone 0.01\n",
            "episode:  88 score 36.00 average_score 17.10 epsilone 0.01\n",
            "episode:  89 score 32.00 average_score 17.27 epsilone 0.01\n",
            "episode:  90 score 42.00 average_score 17.54 epsilone 0.01\n",
            "episode:  91 score 52.00 average_score 17.91 epsilone 0.01\n",
            "episode:  92 score 31.00 average_score 18.05 epsilone 0.01\n",
            "episode:  93 score 35.00 average_score 18.23 epsilone 0.01\n",
            "episode:  94 score 18.00 average_score 18.23 epsilone 0.01\n",
            "episode:  95 score 75.00 average_score 18.82 epsilone 0.01\n",
            "episode:  96 score 31.00 average_score 18.95 epsilone 0.01\n",
            "episode:  97 score 57.00 average_score 19.34 epsilone 0.01\n",
            "episode:  98 score 29.00 average_score 19.43 epsilone 0.01\n",
            "episode:  99 score 21.00 average_score 19.45 epsilone 0.01\n",
            "episode:  100 score 51.00 average_score 19.68 epsilone 0.01\n",
            "episode:  101 score 26.00 average_score 19.79 epsilone 0.01\n",
            "episode:  102 score 22.00 average_score 19.68 epsilone 0.01\n",
            "episode:  103 score 23.00 average_score 19.81 epsilone 0.01\n",
            "episode:  104 score 37.00 average_score 19.78 epsilone 0.01\n",
            "episode:  105 score 27.00 average_score 19.75 epsilone 0.01\n",
            "episode:  106 score 53.00 average_score 20.13 epsilone 0.01\n",
            "episode:  107 score 39.00 average_score 20.29 epsilone 0.01\n",
            "episode:  108 score 31.00 average_score 20.43 epsilone 0.01\n",
            "episode:  109 score 26.00 average_score 20.56 epsilone 0.01\n",
            "episode:  110 score 34.00 average_score 20.52 epsilone 0.01\n",
            "episode:  111 score 22.00 average_score 20.54 epsilone 0.01\n",
            "episode:  112 score 33.00 average_score 20.52 epsilone 0.01\n",
            "episode:  113 score 36.00 average_score 20.54 epsilone 0.01\n",
            "episode:  114 score 35.00 average_score 20.66 epsilone 0.01\n",
            "episode:  115 score 37.00 average_score 20.82 epsilone 0.01\n",
            "episode:  116 score 47.00 average_score 21.19 epsilone 0.01\n",
            "episode:  117 score 34.00 average_score 21.37 epsilone 0.01\n",
            "episode:  118 score 33.00 average_score 21.58 epsilone 0.01\n",
            "episode:  119 score 51.00 average_score 21.98 epsilone 0.01\n",
            "episode:  120 score 35.00 average_score 22.09 epsilone 0.01\n",
            "episode:  121 score 43.00 average_score 22.36 epsilone 0.01\n",
            "episode:  122 score 32.00 average_score 22.59 epsilone 0.01\n",
            "episode:  123 score 32.00 average_score 22.75 epsilone 0.01\n",
            "episode:  124 score 53.00 average_score 23.15 epsilone 0.01\n",
            "episode:  125 score 71.00 average_score 23.68 epsilone 0.01\n",
            "episode:  126 score 84.00 average_score 24.39 epsilone 0.01\n",
            "episode:  127 score 26.00 average_score 24.53 epsilone 0.01\n",
            "episode:  128 score 40.00 average_score 24.80 epsilone 0.01\n",
            "episode:  129 score 65.00 average_score 25.26 epsilone 0.01\n",
            "episode:  130 score 48.00 average_score 25.57 epsilone 0.01\n",
            "episode:  131 score 48.00 average_score 25.93 epsilone 0.01\n",
            "episode:  132 score 33.00 average_score 26.11 epsilone 0.01\n",
            "episode:  133 score 71.00 average_score 26.70 epsilone 0.01\n",
            "episode:  134 score 60.00 average_score 27.19 epsilone 0.01\n",
            "episode:  135 score 42.00 average_score 27.50 epsilone 0.01\n",
            "episode:  136 score 60.00 average_score 27.95 epsilone 0.01\n",
            "episode:  137 score 78.00 average_score 28.64 epsilone 0.01\n",
            "episode:  138 score 92.00 average_score 29.43 epsilone 0.01\n",
            "episode:  139 score 44.00 average_score 29.76 epsilone 0.01\n",
            "episode:  140 score 68.00 average_score 30.31 epsilone 0.01\n",
            "episode:  141 score 116.00 average_score 31.37 epsilone 0.01\n",
            "episode:  142 score 50.00 average_score 31.74 epsilone 0.01\n",
            "episode:  143 score 36.00 average_score 31.96 epsilone 0.01\n",
            "episode:  144 score 40.00 average_score 32.18 epsilone 0.01\n",
            "episode:  145 score 38.00 average_score 32.46 epsilone 0.01\n",
            "episode:  146 score 42.00 average_score 32.78 epsilone 0.01\n",
            "episode:  147 score 83.00 average_score 33.51 epsilone 0.01\n",
            "episode:  148 score 80.00 average_score 34.21 epsilone 0.01\n",
            "episode:  149 score 42.00 average_score 34.51 epsilone 0.01\n",
            "episode:  150 score 30.00 average_score 34.72 epsilone 0.01\n",
            "episode:  151 score 31.00 average_score 34.89 epsilone 0.01\n",
            "episode:  152 score 34.00 average_score 35.13 epsilone 0.01\n",
            "episode:  153 score 60.00 average_score 35.61 epsilone 0.01\n",
            "episode:  154 score 50.00 average_score 35.99 epsilone 0.01\n",
            "episode:  155 score 87.00 average_score 36.77 epsilone 0.01\n",
            "episode:  156 score 50.00 average_score 37.17 epsilone 0.01\n",
            "episode:  157 score 46.00 average_score 37.53 epsilone 0.01\n",
            "episode:  158 score 32.00 average_score 37.75 epsilone 0.01\n",
            "episode:  159 score 28.00 average_score 37.95 epsilone 0.01\n",
            "episode:  160 score 54.00 average_score 38.40 epsilone 0.01\n",
            "episode:  161 score 29.00 average_score 38.60 epsilone 0.01\n",
            "episode:  162 score 40.00 average_score 38.90 epsilone 0.01\n",
            "episode:  163 score 58.00 average_score 39.39 epsilone 0.01\n",
            "episode:  164 score 35.00 average_score 39.65 epsilone 0.01\n",
            "episode:  165 score 60.00 average_score 40.16 epsilone 0.01\n",
            "episode:  166 score 36.00 average_score 40.43 epsilone 0.01\n",
            "episode:  167 score 46.00 average_score 40.80 epsilone 0.01\n",
            "episode:  168 score 29.00 average_score 40.97 epsilone 0.01\n",
            "episode:  169 score 82.00 average_score 41.69 epsilone 0.01\n",
            "episode:  170 score 40.00 average_score 41.99 epsilone 0.01\n",
            "episode:  171 score 51.00 average_score 42.40 epsilone 0.01\n",
            "episode:  172 score 67.00 average_score 42.97 epsilone 0.01\n",
            "episode:  173 score 36.00 average_score 43.23 epsilone 0.01\n",
            "episode:  174 score 69.00 average_score 43.84 epsilone 0.01\n",
            "episode:  175 score 63.00 average_score 44.37 epsilone 0.01\n",
            "episode:  176 score 37.00 average_score 44.63 epsilone 0.01\n",
            "episode:  177 score 45.00 average_score 44.98 epsilone 0.01\n",
            "episode:  178 score 56.00 average_score 45.31 epsilone 0.01\n",
            "episode:  179 score 57.00 average_score 45.09 epsilone 0.01\n",
            "episode:  180 score 68.00 average_score 45.67 epsilone 0.01\n",
            "episode:  181 score 34.00 average_score 45.83 epsilone 0.01\n",
            "episode:  182 score 31.00 average_score 45.73 epsilone 0.01\n",
            "episode:  183 score 44.00 average_score 45.84 epsilone 0.01\n",
            "episode:  184 score 56.00 average_score 46.12 epsilone 0.01\n",
            "episode:  185 score 64.00 average_score 46.49 epsilone 0.01\n",
            "episode:  186 score 40.00 average_score 46.67 epsilone 0.01\n",
            "episode:  187 score 40.00 average_score 46.23 epsilone 0.01\n",
            "episode:  188 score 38.00 average_score 46.25 epsilone 0.01\n",
            "episode:  189 score 44.00 average_score 46.37 epsilone 0.01\n",
            "episode:  190 score 42.00 average_score 46.37 epsilone 0.01\n",
            "episode:  191 score 49.00 average_score 46.34 epsilone 0.01\n",
            "episode:  192 score 59.00 average_score 46.62 epsilone 0.01\n",
            "episode:  193 score 52.00 average_score 46.79 epsilone 0.01\n",
            "episode:  194 score 63.00 average_score 47.24 epsilone 0.01\n",
            "episode:  195 score 61.00 average_score 47.10 epsilone 0.01\n",
            "episode:  196 score 80.00 average_score 47.59 epsilone 0.01\n",
            "episode:  197 score 51.00 average_score 47.53 epsilone 0.01\n",
            "episode:  198 score 63.00 average_score 47.87 epsilone 0.01\n",
            "episode:  199 score 108.00 average_score 48.74 epsilone 0.01\n",
            "episode:  200 score 83.00 average_score 49.06 epsilone 0.01\n",
            "episode:  201 score 123.00 average_score 50.03 epsilone 0.01\n",
            "episode:  202 score 200.00 average_score 51.81 epsilone 0.01\n",
            "episode:  203 score 73.00 average_score 52.31 epsilone 0.01\n",
            "episode:  204 score 63.00 average_score 52.57 epsilone 0.01\n",
            "episode:  205 score 88.00 average_score 53.18 epsilone 0.01\n",
            "episode:  206 score 87.00 average_score 53.52 epsilone 0.01\n",
            "episode:  207 score 145.00 average_score 54.58 epsilone 0.01\n",
            "episode:  208 score 122.00 average_score 55.49 epsilone 0.01\n",
            "episode:  209 score 136.00 average_score 56.59 epsilone 0.01\n",
            "episode:  210 score 200.00 average_score 58.25 epsilone 0.01\n",
            "episode:  211 score 200.00 average_score 60.03 epsilone 0.01\n",
            "episode:  212 score 200.00 average_score 61.70 epsilone 0.01\n",
            "episode:  213 score 200.00 average_score 63.34 epsilone 0.01\n",
            "episode:  214 score 200.00 average_score 64.99 epsilone 0.01\n",
            "episode:  215 score 200.00 average_score 66.62 epsilone 0.01\n",
            "episode:  216 score 200.00 average_score 68.15 epsilone 0.01\n",
            "episode:  217 score 197.00 average_score 69.78 epsilone 0.01\n",
            "episode:  218 score 200.00 average_score 71.45 epsilone 0.01\n",
            "episode:  219 score 200.00 average_score 72.94 epsilone 0.01\n",
            "episode:  220 score 200.00 average_score 74.59 epsilone 0.01\n",
            "episode:  221 score 200.00 average_score 76.16 epsilone 0.01\n",
            "episode:  222 score 200.00 average_score 77.84 epsilone 0.01\n",
            "episode:  223 score 200.00 average_score 79.52 epsilone 0.01\n",
            "episode:  224 score 200.00 average_score 80.99 epsilone 0.01\n",
            "episode:  225 score 200.00 average_score 82.28 epsilone 0.01\n",
            "episode:  226 score 200.00 average_score 83.44 epsilone 0.01\n",
            "episode:  227 score 200.00 average_score 85.18 epsilone 0.01\n",
            "episode:  228 score 200.00 average_score 86.78 epsilone 0.01\n",
            "episode:  229 score 200.00 average_score 88.13 epsilone 0.01\n",
            "episode:  230 score 200.00 average_score 89.65 epsilone 0.01\n",
            "episode:  231 score 200.00 average_score 91.17 epsilone 0.01\n",
            "episode:  232 score 200.00 average_score 92.84 epsilone 0.01\n",
            "episode:  233 score 200.00 average_score 94.13 epsilone 0.01\n",
            "episode:  234 score 200.00 average_score 95.53 epsilone 0.01\n",
            "episode:  235 score 200.00 average_score 97.11 epsilone 0.01\n",
            "episode:  236 score 200.00 average_score 98.51 epsilone 0.01\n",
            "episode:  237 score 200.00 average_score 99.73 epsilone 0.01\n",
            "episode:  238 score 200.00 average_score 100.81 epsilone 0.01\n",
            "episode:  239 score 200.00 average_score 102.37 epsilone 0.01\n",
            "episode:  240 score 200.00 average_score 103.69 epsilone 0.01\n",
            "episode:  241 score 200.00 average_score 104.53 epsilone 0.01\n",
            "episode:  242 score 197.00 average_score 106.00 epsilone 0.01\n",
            "episode:  243 score 200.00 average_score 107.64 epsilone 0.01\n",
            "episode:  244 score 200.00 average_score 109.24 epsilone 0.01\n",
            "episode:  245 score 200.00 average_score 110.86 epsilone 0.01\n",
            "episode:  246 score 200.00 average_score 112.44 epsilone 0.01\n",
            "episode:  247 score 200.00 average_score 113.61 epsilone 0.01\n",
            "episode:  248 score 200.00 average_score 114.81 epsilone 0.01\n",
            "episode:  249 score 187.00 average_score 116.26 epsilone 0.01\n",
            "episode:  250 score 184.00 average_score 117.80 epsilone 0.01\n",
            "episode:  251 score 195.00 average_score 119.44 epsilone 0.01\n",
            "episode:  252 score 191.00 average_score 121.01 epsilone 0.01\n",
            "episode:  253 score 184.00 average_score 122.25 epsilone 0.01\n",
            "episode:  254 score 200.00 average_score 123.75 epsilone 0.01\n",
            "episode:  255 score 190.00 average_score 124.78 epsilone 0.01\n",
            "episode:  256 score 191.00 average_score 126.19 epsilone 0.01\n",
            "episode:  257 score 200.00 average_score 127.73 epsilone 0.01\n",
            "episode:  258 score 177.00 average_score 129.18 epsilone 0.01\n",
            "episode:  259 score 199.00 average_score 130.89 epsilone 0.01\n",
            "episode:  260 score 187.00 average_score 132.22 epsilone 0.01\n",
            "episode:  261 score 200.00 average_score 133.93 epsilone 0.01\n",
            "episode:  262 score 189.00 average_score 135.42 epsilone 0.01\n",
            "episode:  263 score 195.00 average_score 136.79 epsilone 0.01\n",
            "episode:  264 score 179.00 average_score 138.23 epsilone 0.01\n",
            "episode:  265 score 192.00 average_score 139.55 epsilone 0.01\n",
            "episode:  266 score 195.00 average_score 141.14 epsilone 0.01\n",
            "episode:  267 score 189.00 average_score 142.57 epsilone 0.01\n",
            "episode:  268 score 180.00 average_score 144.08 epsilone 0.01\n",
            "episode:  269 score 166.00 average_score 144.92 epsilone 0.01\n",
            "episode:  270 score 183.00 average_score 146.35 epsilone 0.01\n",
            "episode:  271 score 163.00 average_score 147.47 epsilone 0.01\n",
            "episode:  272 score 177.00 average_score 148.57 epsilone 0.01\n",
            "episode:  273 score 148.00 average_score 149.69 epsilone 0.01\n",
            "episode:  274 score 162.00 average_score 150.62 epsilone 0.01\n",
            "episode:  275 score 193.00 average_score 151.92 epsilone 0.01\n",
            "episode:  276 score 166.00 average_score 153.21 epsilone 0.01\n",
            "episode:  277 score 152.00 average_score 154.28 epsilone 0.01\n",
            "episode:  278 score 136.00 average_score 155.08 epsilone 0.01\n",
            "episode:  279 score 149.00 average_score 156.00 epsilone 0.01\n",
            "episode:  280 score 155.00 average_score 156.87 epsilone 0.01\n",
            "episode:  281 score 159.00 average_score 158.12 epsilone 0.01\n",
            "episode:  282 score 180.00 average_score 159.61 epsilone 0.01\n",
            "episode:  283 score 176.00 average_score 160.93 epsilone 0.01\n",
            "episode:  284 score 161.00 average_score 161.98 epsilone 0.01\n",
            "episode:  285 score 200.00 average_score 163.34 epsilone 0.01\n",
            "episode:  286 score 180.00 average_score 164.74 epsilone 0.01\n",
            "episode:  287 score 181.00 average_score 166.15 epsilone 0.01\n",
            "episode:  288 score 185.00 average_score 167.62 epsilone 0.01\n",
            "episode:  289 score 200.00 average_score 169.18 epsilone 0.01\n",
            "episode:  290 score 200.00 average_score 170.76 epsilone 0.01\n",
            "episode:  291 score 200.00 average_score 172.27 epsilone 0.01\n",
            "episode:  292 score 200.00 average_score 173.68 epsilone 0.01\n",
            "episode:  293 score 200.00 average_score 175.16 epsilone 0.01\n",
            "episode:  294 score 200.00 average_score 176.53 epsilone 0.01\n",
            "episode:  295 score 200.00 average_score 177.92 epsilone 0.01\n",
            "episode:  296 score 200.00 average_score 179.12 epsilone 0.01\n",
            "episode:  297 score 200.00 average_score 180.61 epsilone 0.01\n",
            "episode:  298 score 200.00 average_score 181.98 epsilone 0.01\n",
            "episode:  299 score 200.00 average_score 182.90 epsilone 0.01\n",
            "episode:  300 score 200.00 average_score 184.07 epsilone 0.01\n",
            "episode:  301 score 200.00 average_score 184.84 epsilone 0.01\n",
            "episode:  302 score 200.00 average_score 184.84 epsilone 0.01\n",
            "episode:  303 score 200.00 average_score 186.11 epsilone 0.01\n",
            "episode:  304 score 200.00 average_score 187.48 epsilone 0.01\n",
            "episode:  305 score 200.00 average_score 188.60 epsilone 0.01\n",
            "episode:  306 score 200.00 average_score 189.73 epsilone 0.01\n",
            "episode:  307 score 200.00 average_score 190.28 epsilone 0.01\n"
          ]
        }
      ]
    },
    {
      "cell_type": "code",
      "metadata": {
        "id": "3umvfaZbRe4a"
      },
      "source": [
        "import pandas as pd"
      ],
      "execution_count": 9,
      "outputs": []
    },
    {
      "cell_type": "code",
      "metadata": {
        "colab": {
          "base_uri": "https://localhost:8080/",
          "height": 282
        },
        "id": "neOEdyNARqmi",
        "outputId": "97a57045-1073-4eed-db80-caac26105099"
      },
      "source": [
        "pd.Series(scores).plot()"
      ],
      "execution_count": 10,
      "outputs": [
        {
          "output_type": "execute_result",
          "data": {
            "text/plain": [
              "<matplotlib.axes._subplots.AxesSubplot at 0x7f012973c350>"
            ]
          },
          "metadata": {},
          "execution_count": 10
        },
        {
          "output_type": "display_data",
          "data": {
            "image/png": "[encoded data removed]",
            "text/plain": [
              "<Figure size 432x288 with 1 Axes>"
            ]
          },
          "metadata": {
            "needs_background": "light"
          }
        }
      ]
    },
    {
      "cell_type": "code",
      "metadata": {
        "colab": {
          "base_uri": "https://localhost:8080/"
        },
        "id": "flOPdViaKduw",
        "outputId": "833de598-1f9f-4dbf-f36f-072d58b5127b"
      },
      "source": [
        "env.observation_space"
      ],
      "execution_count": null,
      "outputs": [
        {
          "output_type": "execute_result",
          "data": {
            "text/plain": [
              "Box(-3.4028234663852886e+38, 3.4028234663852886e+38, (4,), float32)"
            ]
          },
          "metadata": {},
          "execution_count": 9
        }
      ]
    },
    {
      "cell_type": "code",
      "metadata": {
        "colab": {
          "base_uri": "https://localhost:8080/"
        },
        "id": "jZ9_Fk6nKdux",
        "outputId": "7ffaedc6-de67-4d99-86f1-b4f0d8fca935"
      },
      "source": [
        "print(env.reset())"
      ],
      "execution_count": null,
      "outputs": [
        {
          "output_type": "stream",
          "name": "stdout",
          "text": [
            "[-0.0056831  -0.0062962  -0.02275845  0.04098642]\n"
          ]
        }
      ]
    },
    {
      "cell_type": "code",
      "metadata": {
        "id": "mr8LPcgcS6ns"
      },
      "source": [
        "%%bash\n",
        "# Install additional packages for visualization\n",
        "sudo apt-get install -y xvfb python-opengl > /dev/null 2>&1\n",
        "pip install pyvirtualdisplay > /dev/null 2>&1\n",
        "pip install git+https://github.com/tensorflow/docs > /dev/null 2>&1"
      ],
      "execution_count": null,
      "outputs": []
    },
    {
      "cell_type": "code",
      "metadata": {
        "id": "xfDakuNhU5gC"
      },
      "source": [
        "dummy_agent = Agent(gamma = 0.99,epsilone=1,lr=lr,input_dims=env.observation_space.shape,\n",
        "               n_actions=env.action_space.n,mem_size=1000000,batch_size=64,epsilone_end=0.01)"
      ],
      "execution_count": null,
      "outputs": []
    },
    {
      "cell_type": "code",
      "metadata": {
        "id": "8npUMLiiKduy"
      },
      "source": [
        "# Render an episode and save as a GIF file\n",
        "\n",
        "from IPython import display as ipythondisplay\n",
        "from PIL import Image\n",
        "from pyvirtualdisplay import Display\n",
        "\n",
        "\n",
        "display = Display(visible=0, size=(400, 300))\n",
        "display.start()\n",
        "\n",
        "\n",
        "def render_episode(env: gym.Env, model: tf.keras.Model, max_steps: int): \n",
        "  screen = env.render(mode='rgb_array')\n",
        "  im = Image.fromarray(screen)\n",
        "\n",
        "  images = [im]\n",
        "  \n",
        "  observation = env.reset()\n",
        "  for i in range(1, max_steps + 1):\n",
        "    # state = tf.expand_dims(state, 0)\n",
        "    action = agent.choose_action(observation)\n",
        "\n",
        "    observation, _, done, _ = env.step(action)\n",
        "    # state = tf.constant(state, dtype=tf.float32)\n",
        "\n",
        "    # Render screen every 10 steps\n",
        "    if i % 10 == 0:\n",
        "      screen = env.render(mode='rgb_array')\n",
        "      images.append(Image.fromarray(screen))\n",
        "  \n",
        "    if done:\n",
        "      break\n",
        "  \n",
        "  return images\n",
        "\n",
        "\n",
        "# Save GIF image\n",
        "images = render_episode(env, dummy_agent, 10000)\n",
        "image_file = 'cartpole-v0.gif'\n",
        "# loop=0: loop forever, duration=1: play each frame for 1ms\n",
        "images[0].save(\n",
        "    image_file, save_all=True, append_images=images[1:], loop=0, duration=1)"
      ],
      "execution_count": null,
      "outputs": []
    },
    {
      "cell_type": "code",
      "metadata": {
        "colab": {
          "base_uri": "https://localhost:8080/",
          "height": 421
        },
        "id": "ghXqbMiMSx8F",
        "outputId": "bbd6d473-a14a-4ba0-b764-e62ae4b84e06"
      },
      "source": [
        "import tensorflow_docs.vis.embed as embed\n",
        "embed.embed_file(image_file)"
      ],
      "execution_count": null,
      "outputs": [
        {
          "output_type": "execute_result",
          "data": {
            "text/html": [
              "<img src=\"data:image/gif;base64,R0lGODlhWAKQAYcAAP///8yZZoCAzAAAAAAAAAAAAAAAAAAAAAAAAAAAAAAAAAAAAAAAAAAAAAAAAAAAAAAAAAAAAAAAAAAAAAAAAAAAAAAAAAAAAAAAAAAAAAAAAAAAAAAAAAAAAAAAAAAAAAAAAAAAAAAAAAAAAAAAAAAAAAAAAAAAAAAAAAAAAAAAAAAAAAAAAAAAAAAAAAAAAAAAAAAAAAAAAAAAAAAAAAAAAAAAAAAAAAAAAAAAAAAAAAAAAAAAAAAAAAAAAAAAAAAAAAAAAAAAAAAAAAAAAAAAAAAAAAAAAAAAAAAAAAAAAAAAAAAAAAAAAAAAAAAAAAAAAAAAAAAAAAAAAAAAAAAAAAAAAAAAAAAAAAAAAAAAAAAAAAAAAAAAAAAAAAAAAAAAAAAAAAAAAAAAAAAAAAAAAAAAAAAAAAAAAAAAAAAAAAAAAAAAAAAAAAAAAAAAAAAAAAAAAAAAAAAAAAAAAAAAAAAAAAAAAAAAAAAAAAAAAAAAAAAAAAAAAAAAAAAAAAAAAAAAAAAAAAAAAAAAAAAAAAAAAAAAAAAAAAAAAAAAAAAAAAAAAAAAAAAAAAAAAAAAAAAAAAAAAAAAAAAAAAAAAAAAAAAAAAAAAAAAAAAAAAAAAAAAAAAAAAAAAAAAAAAAAAAAAAAAAAAAAAAAAAAAAAAAAAAAAAAAAAAAAAAAAAAAAAAAAAAAAAAAAAAAAAAAAAAAAAAAAAAAAAAAAAAAAAAAAAAAAAAAAAAAAAAAAAAAAAAAAAAAAAAAAAAAAAAAAAAAAAAAAAAAAAAAAAAAAAAAAAAAAAAAAAAAAAAAAAAAAAAAAAAAAAAAAAAAAAAAAAAAAAAAAAAAAAAAAAAAAAAAAAAAAAAAAAAAAAAAAAAAAAAAAAAAAAAAAAAAAAAAAAAAAAAAAAAAAAAAAAAAAAAAAAAAAAAAAAAAAAAAAAAAAAAAAAAAAAAAAAAAAAAAAAAAAAAAAAAAAAAAAAAAAAAAAAAAAAAAAAAAAAAAAAAAAAAAAAAAAAAAAAAAACH/C05FVFNDQVBFMi4wAwEAAAAsAAAAAFgCkAFACP8AAQgcSLCgwYMIEypcyLChw4cQI0qcSLGixYsYM2rcyLGjx48gQ4ocSbKkyZMoU6pcybKly5cwY8qcSbOmzZs4c+rcybOnz59AgwodSrSo0aNIkypdyrSp06dQo0qdSrWq1atYs2rdyrWr169gw4odS7as2bNo06pdy7at27dw48qdS7eu3bt48+rdy7ev37+AAwseTLiw4cOIEytezLix48eQI0ueTLmy5cuYM2vezLmz58+gQ4se7TeA6dOoAahezbq169ewY8ueTbu27du4c+vezbu379/AgwsfTry48ePIkxcPwLy5cwDQo0ufTr269evYs2vfzr279+/gw4v/H0++vPnz6NOrX8++vfv36wPIn08fgP37+PPr38+/v3+AAAQOJFjQ4EGECRUuZNjQ4UOIESVOpFjR4kWMGTVu5NjR40eQBwOMJFkSwEmUKVWuZNnS5UuYMWXOpFnT5k2cOXXu5NnT50+gQYUOJVrUqNAASZUuBdDU6VOoUaVOpVrV6lWsWbVu5drV61ewYcWOJVvW7Fm0adWuZZs2wFu4cQHMpVvX7l28efXu5dvX71/AgQUPJlzY8GHEiRUvZtzY8WPIkSU7DlDZ8mUAmTVv5tzZ82fQoUWPJl3a9GnUqVWvZt3a9WvYsWXPpl3b9m3ctAPs5t0bwG/gwYUPJ17c//hx5MmVL2fe3Plz6NGlT6de3fp17Nm1b+fe3bv2AOHFjwdQ3vx59OnVr2ff3v17+PHlz6df3/59/Pn17+ff3z9AAAIHEixo8CDChAoXMmzo8CHEiBInUhQY4CLGjAA2cuzo8SPIkCJHkixp8iTKlCpXsmzp8iXMmDJn0qxp8ybOnDptBujp8yeAoEKHEi1q9CjSpEqXMm3q9CnUqFKnUq1q9SrWrFq3cu3q9SvYrgHGki0L4CzatGrXsm3r9i3cuHLn0q1r9y7evHr38u3r9y/gwIIHEy5sWHCAxIoXA2js+DHkyJInU65s+TLmzJo3c+7s+TPo0KJHky5t+jTq1P+qV7NGHeA17NgAZtOubfs27ty6d/Pu7fs38ODChxMvbvw48uTKlzNv7vw59OjSdQ+obv06duwBAgjo7j1AgAHix5MvXx4A+vTq17Nv7/49/Pjy59Ovb/8+/vz69/Pv7x8gAIEDCRY0eBBhQoULGTZ0+BBiRIkTKVacOABjRo0bNwYIIABkyAABBpQ0eRIlSgArWbZ0+RJmTJkzada0eRNnTp07efb0+RNoUKFDiRY1ehRp0p8DmDZ1+hRqVKlTnwKwehVrVq1buXb1+hVsWLFjyZY1exZtWrVr2bZ1+xZuXLlz6aodcBdvXr17+fb1qxdAYMGDCRc2fBhxYsWLGTf/dvwYcmTJkylXtnwZc2bNmzl39vwZdGjRo0mXNn0adWrVq1m3dv0admzZs2nXtn0bd27du3n39v0beHDhw4kXN34ceXLly5k3d/4cenTp06lXt34de3bt27l39/4dfHjx48mXN38efXr169m3d/8efnz58+nXt38ff379+/n39w8QgMCBBAsaPIgwocKFDBs6fAgxosSJFCtavIgxo8aNHDt6/AgypMiRJEuaPIkypcqVLFu6fAkzpsyZNGvavIkzp86dPHv6/Ak0qNChRIsaPYo0qdKlTJs6fQo1qtSpVKtavYo1q9atXLt6/Qo2rNixZMuaPYs2rdq1bNu6fQs3/67cuXTr2r2LN6/evXz7+v0LOLDgwYQLGz6MOLHixYwbO34MObLkyZQpBrgcAIDmzZw7e/4MOrTo0aRLmz6NOrXq1axbu34NO7bs2bRr276NO3ftALx7+wYAPLjw4cSLGz+OPLny5cybO38OPbr06dSrW7+OPbv27dy7e/++PYD48eQBmD+PPr369ezbu38PP778+fTr27+PP7/+/fz7+wcIQOBAggUNHkSYUOFChg0dPoQYUeJEihURBsCYUSMAjh09fgQZUuRIkiVNnkSZUuVKli1dvoQZU+ZMmjVt3sSZU+fOmwF8/gQKQOhQokWNHkWaVOlSpk2dPoUaVepUqv9VrV7FmlXrVq5dvX4FG7ZrALJlzQJAm1btWrZt3b6FG1fuXLp17d7Fm1fvXr59/f4FHFjwYMKFDR8mHEDxYsYAHD+GHFnyZMqVLV/GnFnzZs6dPX8GHVr0aNKlTZ9GnVr1atatUweAHVs2ANq1bd/GnVv3bt69ff8GHlz4cOLFjR9Hnlz5cubNnT+HHl369OcBrF/HDkD7du7dvX8HH178ePLlzZ9Hn179evbt3b+HH1/+fPr17d/Hn79+AP79/QMEIHAgwYIGDyJMqHAhw4YOH0KMKHEixYoWL2LMqHEjx44eP4IM2TEAyZImAaBMqXIly5YuX8KMKXMmzZo2b+L/zKlzJ8+ePn8CDSp0KNGiRo8SDaB0KVMATp9CjSp1KtWqVq9izap1K9euXr+CDSt2LNmyZs+iTat2Ldu2aQPAjSsXAN26du/izat3L9++fv8CDix4MOHChg8jTqx4MePGjh9Djix58uMAli9jBqB5M+fOnj+DDi16NOnSpk+jTq16NevWrl/Dji17Nu3atm/jzl07AO/evgEADy58OPHixo8jT658OfPmzp9Djy59OvXq1q9jz659O/fu3r8fHyB+PPny5QWgT69+APv27t+/ByB/Pv369u/jz69/P//+/gECEDiQYEGDBxEmVLiQYUOHDyFGlDiAYkWLFzFm1LiR/2NHjx9BhhQ5kmRJkydRplS5kmVLly9hxpQ5k+ZFADdx5tS5k2dPnz+BBhU6lGhRo0eRJlW6VOkAp0+hRpU6lWrVqACwZtW6lWtXr1/BhhU7lmxZs2fRplW7lm1bt2/hxpU7l25du3fx5tW7l29fv38BBxY8mHBhw4cRJ1a8mHFjx48hR5Y8mXJly5cxZ9a8mXNnz59BhxY9mnRp06dRp1a9mnVr169hx5Y9m3Zt27dx59a9m3dv37+BBxc+nHhx48eRJ1e+nHlz58+hR5c+nXp169exZ9e+nXt379/Bhxc/nnx58+fRp1e/nn179+/hx5c/n359+/fx59e/n39///8AAQgcSLCgwYMIEypcyLChw4cQI0qcSLGixYsYM2rcyLGjx48gQ4ocSbKkyZMoU6pcybKly5cwY8qcSbOmzZs4c+rcybOnz59AgwodSrSo0aNIkypdyrSp06dQo0qdSrWq1atYs2rdyrWr169gw4odS7as2bNo06pdy7at27dw48qdS7eu3bt48+rdy7ev37+AAwseTLiw4cOIEytezLix48eQI0ueTLmy5cuYM2vezLmz58+gQ4seTbq06dOoU6tezbq169ewY8ueTbu27du4c+vezbu379/Ag88MQLy4cQDIkytfzry58+fQo0ufTr269evYs2vfzr279+/gw4v/H0++vPnz4wOoX88egPv38OPLn0+/vv37+PPr38+/v3+AAAQOJFjQ4EGECRUuZNjQ4UOIESVOpFjR4kWMGTVu5NgwwEeQIQGMJFnS5EmUKVWuZNnS5UuYMWXOpFnT5k2cOXXu5NnT50+gQYX6DFDU6FEASZUuZdrU6VOoUaVOpVrV6lWsWbVu5drV61ewYcWOJVvW7Fm0ZAOsZdsWwFu4ceXOpVvX7l28efXu5dvX71/AgQUPJlzY8GHEiRUvZtzYseIAkSVPBlDZ8mXMmTVv5tzZ82fQoUWPJl3a9GnUqVWvZt3a9WvYsWXPpg07wG3cuQHs5t3b92/gwYUPJ17c//hx5MmVL2fe3Plz6NGlT6de3fp17Nm1Ww/Q3ft3AOHFjydf3vx59OnVr2ff3v17+PHlz6df3/59/Pn17+ff3z9AAAIHEixo8CDChAoXMmw4MADEiBIBUKxo8SLGjBo3cuzo8SPIkCJHkixp8iTKlCpXsmzp8iXMmDJnvgxg8yZOADp38uzp8yfQoEKHEi1q9CjSpEqXMm3q9CnUqFKnUq1q9SrWrFYDcO3qFQDYsGLHki1r9izatGrXsm3r9i3cuHLn0q1r9y7evHr38u3r9+/eAIIHEwZg+DDixIoXM27s+DHkyJInU65s+TLmzJo3c+7s+TPo0KJHky4dOgDq1P+qAbBu7fo17NiyZ9Oubfs27ty6d/Pu7fs38ODChxMvbvw48uTKlx8P4Pw5dADSp1Ovbv069uzat3Pv7v07+PDix5Mvb/48+vTq17Nv7/49/PjtA9Cvbx8A/vz69/Pv7x8gAIEDCRY0eBBhQoULGTZ0+BBiRIkTKVa0eBFjRo0bOXb0+BGkxgAjSZYEcBJlSpUrWbZ0+RJmTJkzada0eRNnTp07efb0+RNoUKFDiRY1KjRAUqVLATR1+hRqVKlTqVa1ehVrVq1buXb1+hVsWLFjyZY1exZtWrVr2aIN8BZuXABz6da1exdvXr17+fb1+xdwYMGDCRc2fBhxYsWLGTf/dvwYcmTJjgNUtnwZQGbNmzl39vwZdGjRo0mXNn0adWrVq1m3dv0admzZs2nXtn0bN+0Au3n3BvAbeHDhw4kXN34ceXLly5k3d/4cenTp06lXt34de3bt27l39649QHjx4wGUN38efXr169m3d/8efnz58+nXt38ff379+/n39w8QgMCBBAsaPIgwocKFDBs6fAgxosSJFAcGuIgxI4CNHDt6/AgypMiRJEuaPIkypcqVLFu6fAkzpsyZNGvavIkzp06bAXr6/AkgqNChRIsaPYo0qdKlTJs6fQo1qtSpVKtavYo1q9atXLt6/QqWa4CxZMsCOIs2rdq1bNu6fQs3/67cuXTr2r2LN6/evXz7+v0LOLDgwYQLGxYcILHixQAaO34MObLkyZQrW76MObPmzZw7e/4MOrTo0aRLmz6NOrXq1axRB3gNOzaA2bRr276NO7fu3bx7+/4NPLjw4cSLGz+OPLny5cybO38OPbp05wGqW78OILv27dy7e/8OPrz48eTLmz+PPr369ezbu38PP778+fTr27+Pn36A/fz7AwAIQOBAggUNHkSYUOFChg0dPoQYUeJEihUtXsSYUeNGjh09fgQZEuEAkiVNnjwZQOVKlgNcvoQZMyYAmjVt3sSZU+dOnj19/gQaVOhQokWNHkWaVOlSpk2dPoUaVSrSAf9VrV7FijWAAK5duw4AG1bs2LEAzJ5Fm1btWrZt3b6FG1fuXLp17d7Fm1fvXr59/f4FHFjwYMJ6BxxGnFix4gACHD9+PEDyZMqVKwPAnFnzZs6dPX8GHVr0aNKlTZ9GnVr1atatXb+GHVv2bNq1bbMekFv3bt69ff8GzhvAcOLFjR9Hnlz5cubNnT+HHl36dOrVrV/Hnl37du7dvX8HH/76APLlzZ9Hn179+vMA3L+HH1/+fPr17d/Hn1//fv79/QMEIHAgwYIGDyJMqHAhw4YOH0KMKHEixYoWL2LMqHEjgAEeP4IMKXIkyZIhAaBMqXIly5YuX8KMKXMmzZo2b+L/zKlzJ8+ePn8CDSp0KNGiRnkOSKp0KdOmTp9CZQpgKtWqVq9izap1K9euXr+CDSt2LNmyZs+iTat2Ldu2bt/CjXt2AN26du/izat3710Afv8CDix4MOHChg8jTqx4MePGjh9Djix5MuXKli9jzqx5M+fOnj+DDi16NOnSpk+jTq16NevWrl/Dji17Nu3atm/jzq17N+/evn8DDy58OPHixo8jT658OfPmzp9Djy59OvXq1q9jz659O/fu3r+DDy9+PPny5s+jT69+Pfv27t/Djy9/Pv369u/jz69/P//+/gECEDiQYEGDBxEmVLiQYUOHDyFGlDiRYkWLFzFm1LiR/2NHjx9BhhQ5kmRJkydRplS5kmVLly9hxpQ5k2ZNmzdx5tS5k2dPnz+BBhU6lGhRo0eRJlW6lGlTp0+hRpU6lWpVq1exZtW6lWtXr1/BhhU7lmxZs2fRplW7lm1bt2/hxpU7l25du3fx5tW7l29fv38BBxY8mHBhw4cRJ1a8mHFjx48hR5Y8mXJly5cxZ9a8mXNnz59BhxY9mnRp06dRp1a9mnVr169hx5Y9m3Zt27dx59a9m3dv37+BBxc+nHhx48eRJ1e+nHlz58+hR5c+nXp169exZ9e+nXt379/Bhxc/nnx58+fRp1e/nn179+/hx5c/n359+/fx59e/n39///8AAQgcSLCgwYMIEypcyLChw4cQI0qcSLGixYsYM2rcyLGjx48gQ4ocSbKkyZMoU6pcybKly5cwY8qcSbOmzZs4c+rcybOnz59AgwodSrSo0aNIkypdyrSp06dQo0qdSrWq1atYs2rdyrWr169gw4odS7as2bNo06pdy7at27dw48qdS7eu3bt48+rdy7ev37+AAwseTLiw4cOIEytezLix48eQI0ueTLmy5cuYM2vezLmz58+gQ4seTbq06dOoU6tezbq169ewY8ueTbu27du4c+vezbu379/AgwsfTry48ePIkytfzry58+fQo0ufTr269evYs18PwL27dwDgw4v/H0++vPnz6NOrX8++vfv38OPLn0+/vv37+PPr38+/v3+AAAQOJFjQ4EGECRUeDNDQ4UMAESVOpFjR4kWMGTVu5NjR40eQIUWOJFnS5EmUKVWuZNnS5UuYLAPMpFkTwE2cOXXu5NnT50+gQYUOJVrU6FGkSZUuZdrU6VOoUaVOpVrVqtQAWbVuBdDV61ewYcWOJVvW7Fm0adWuZdvW7Vu4ceXOpVvX7l28efXu5Ys3wF/AgQEMJlzY8GHEiRUvZtzY8WPIkSVPplzZ8mXMmTVv5tzZ82fQoUV7DlDa9GkAqVWvZt3a9WvYsWXPpl3b9m3cuXXv5t3b92/gwYUPJ17c//hx5MQDLGfeHMBz6NGlT6de3fp17Nm1b+fe3ft38OHFjydf3vx59OnVr2ff3r36APHlzwdQ3/59/Pn17+ff3z9AAAIHEixo8CDChAoXMmzo8CHEiBInUqxo8SLGjBo3cuzo8SPHACJHkgRg8iTKlCpXsmzp8iXMmDJn0qxp8ybOnDp38uzp8yfQoEKHEi0aNADSpEoBMG3q9CnUqFKnUq1q9SrWrFq3cu3q9SvYsGLHki1r9izatGrXng3g9i1cAHLn0q1r9y7evHr38u3r9y/gwIIHEy5s+DDixIoXM27s+DHkyI0DUK5sGQDmzJo3c+7s+TPo0KJHky5t+jTq1P+qV7Nu7fo17NiyZ9Oubfv27AC6d/MG4Ps38ODChxMvbvw48uTKlzNv7vw59OjSp1Ovbv069uzat3Pvnj0A+PDiAZAvb/48+vTq17Nv7/49/Pjy59Ovb/8+/vz69/Pv7x8gAIEDCRY0eBBhQoULGTZ0+BBiRIkNA1S0eBFARo0bOXb0+BFkSJEjSZY0eRJlSpUrWbZ0+RJmTJkzada0eRMnzQA7efYE8BNoUKFDiRY1ehRpUqVLmTZ1+hRqVKlTqVa1ehVrVq1buXb1qjVAWLFjAZQ1exZtWrVr2bZ1+xZuXLlz6da1exdvXr17+fb1+xdwYMGDCQMOcBhxYgCLGTf/dvwYcmTJkylXtnwZc2bNmzl39vwZdGjRo0mXNn0adWrVpgO0dv0aQGzZs2nXtn0bd27du3n39v0beHDhw4kXN34ceXLly5k3d/4cOvMA06lXB3Ade3bt27l39/4dfHjx48mXN38efXr169m3d/8efnz58+nXty8/QH79+wH09w8QgMCBBAsaPIgwocKFDBs6fAgxosSJFCtavIgxo8aNHDt6/AgyJMYAJEuaBIAypcqVLFu6fAkzpsyZNGvavIkzp86dPHv6/Ak0qNChRIsaPTo0gNKlTAE4fQo1qtSpVKtavYo1q9atXLt6/Qo2rNixZMuaPYs2rdq1bNumDQA3/65cAHTr2r2LN6/evXz7+v0LOLDgwYQLGz6MOLHixYwbO34MObLkyY8DWL6MGYDmzZw7e/4MOrTo0aRLmz6NOrXq1axbu34NO7bs2bRr276NO3ftALx7+wYAPLjw4cSLGz+OPLny5cybO38OPbr06dSrW7+OPbv27dy7e/++PYD48eQBmD+PPr369ezbu38PP778+fTr27+PP7/+/fz7+wcIQOBAggUNHkSYUOFChg0dPoQYUeJEihURBsCYUSMAjh09fgQZUuRIkiVNnkSZUuVKli1dvoQZU+ZMmjVt3sSZU+fOmwF8/gQKQOhQokWNHkWaVOlSpk2dPoUaVepUqv9VrV7FmlXrVq5dvX4FG7ZrALJlzQJAm1btWrZt3b6FG1fuXLp17d7Fm1fvXr59/f4FHFjwYMKFDR8eHEDxYsYAHD+GHFnyZMqVLV/GnFnzZs6dPX8GHVr0aNKlTZ9GnVr1atatUweAHVs2ANq1bd/GnVv3bt69ff8GHlz4cOLFjR9Hnlz5cubNnT+HHl369OcBrF/HDkD7du7dvX8HH178ePLlzZ9Hn179evbt3b+HH1/+fPr17d/Hn79+AP79/QMEIHAgwYIGDyJMqHAhw4YOH0KMKHEixYoWL2LMqHEjx44eP4IM2TEAyZImAaBMqXIly5YuX8KMKXMmzZo2b+L/zKlzJ8+ePn8CDSp0KNGiRo8ODaB0KVMATp9CjSp1KtWqVq9izap1K9euXr+CDSt2LNmyZs+iTat2Ldu2aQPAjSsXAN26du/izat3L9++fv8CDix4MOHChg8jTqx4MePGjh9Djix58uMAli9jBqB5M+fOnj+DDi16NOnSpk+jTq16NevWrl/Dji17Nu3atm/jzl07AO/evgEADy58OPHixo8jT658OfPmzp9Djy59OvXq1q9jz659O/fu3r9vDyB+PHkA5s+jT69+Pfv27t/Djy9/Pv369u/jz69/P//+/gECEDiQYEGDBxEmVLiQYUOHDyFGlDiRYkWEATBm1AiA/2NHjx9BhhQ5kmRJkydRplS5kmVLly9hxpQ5k2ZNmzdx5tS582YAnz+BAhA6lGhRo0eRJlW6lGlTp0+hRpU6lWpVq1exZtW6lWtXr1/Bhu0agGxZswDQplW7lm1bt2/hxpU7l25du3fx5tW7l29fv38BBxY8mHBhw4cJB1C8mDEAx48hR5Y8mXJly5cxZ9a8mXNnz59BhxY9mnRp06dRp1a9mnXr1AFgx5YNgHZt27dx59a9m3dv37+BBxc+nHhx48eRJ1e+nHlz58+hR5c+/XkA69exA9C+nXt379/Bhxc/nnx58+fRp1e/nn179+/hx5c/n359+/fx568fgH9///8AAQgcSLCgwYMIEypcyLChw4cQI0qcSLGixYsYM2rcyLGjx48gQ3YMQLKkSQAoU6pcybKly5cwY8qcSbOmzZs4c+rcybOnz59AgwodSrSo0aNDAyhdyhSA06dQo0qdSrWq1atYs2rdyrWr169gw4odS7as2bNo06pdy7Zt2gBw48oFQLeu3bt48+rdy7ev37+AAwseTLiw4cOIEytezLix48eQI0ue/DiA5cuYAWjezLmz58+gQ4seTbq06dOoU6tezbq169ewY8ueTbu27du4c9cOwLu3bwDAgwsfTry48ePIkytfzry58+fQo0ufTr269evYs2vfzr279+/bA4j/H08egPnz6NOrX8++vfv38OPLn0+/vv37+PPr38+/v3+AAAQOJFjQ4EGECRUuZNjQ4UOIESVOpFgRYQCMGTUC4NjR40eQIUWOJFnS5EmUKVWuZNnS5UuYMWXOpFnT5k2cOXXuvBnA50+gAIQOJVrU6FGkSZUuZdrU6VOoUaVOpVrV6lWsWbVu5drV61ewYbsGIFvWLAC0adWuZdvW7Vu4ceXOpVvX7l28efXu5dvX71/AgQUPJlzY8OG3AxQvZty4cQDIkSUPoFzZ8uXLADRv5tzZ82fQoUWPJl3a9GnUqVWvZt3a9WvYsWXPpl3b9m3crgfs5t3bt+8AwYUPH1Dc//hx5MgBLGfe3Plz6NGlT6de3fp17Nm1b+fe3ft38OHFjydf3vx59Om/D2Df3v379wEEzKc/P8AA/Pn1798PwD9AAAIHEixo8CDChAoXMmzo8CHEiBInUqxo8SLGjBo3cuzo8SPIiQNGkixp0qSAlCpXDmjp8iVMmABm0qxp8ybOnDp38uzp8yfQoEKHEi1q9CjSpEqXMm3q9CnUqEcHUK1q9epVAVq3ch3g9SvYsGEBkC1r9izatGrXsm3r9i3cuHLn0q1r9y7evHr38u3r9y/gwILxDihs+DBixAEEMG7MOMCAyJInU6YM4DLmzJo3c+7s+TPo0KJHky5t+jTq1P+qV7Nu7fo17NiyZ9OuvXoA7ty6d+8O4Nv3gODChxMvPhwA8uTKlzNv7vw59OjSp1Ovbv069uzat3Pv7v07+PDix5Mvb577gPTq17Nv7/49fPYA5tOvb/8+/vz69/Pv7x8gAIEDCRY0eBBhQoULGTZ0+BBiRIkTKVa0eBFjRo0bOXbEOABkSJEjSZY0eXIkAJUrWbZ0+RJmTJkzada0eRNnTp07efb0+RNoUKFDiRY1ehSpzwFLmTZ1+hRqVKlOAVS1ehVrVq1buXb1+hVsWLFjyZY1exZtWrVr2bZ1+xZuXLlz0w6wexdvXr17+fbNCwBwYMGDCRc2fBhxYsWLGTf/dvwYcmTJkylXtnwZc2bNmzl39kx5QGjRo0mXNn0aNWkAq1m3dv0admzZs2nXtn0bd27du3n39v0beHDhw4kXN34cefLfA5g3d/4cenTp058DsH4de3bt27l39/4dfHjx48mXN38efXr169m3d/8efnz58+mrH3Aff379+/n39w9wgECBAAoaPIgwocKFDBs6fAgxosSJFCtavIgxo8aNHDt6/AgypMiRGQeYPIkypcqVLFumBAAzpsyZNGvavIkzp86dPHv6/Ak0qNChRIsaPYo0qdKlTJs6fQo1qtSpVKtavYo1q9atXLt6/Qo2rNixZMuaPYs2rdq1bNu6fQs3/67cuXTr2r2LN6/evXz7+v0LOLDgwYQLGz6MOLHixYwbO34MObLkyZQrW76MObPmzZw7e/4MOrTo0aRLmz6NOrXq1axbu34NO7bs2bRr276NO7fu3bx7+/4NPLjw4cSLGz+OPLny5cybO38OPbr06dSrW7+OPbv27dy7e/8OPrz48eTLmz+PPr369ezbu38PP778+fTr27+PP7/+/fz7+wcIQOBAggUNHkSYUOFChg0dPoQYUeJEihUtXsSYUeNGjh09fgQZUuRIkiVNnkSZUuVKli1dvoQZU+ZMmjVt3sSZU+dOnj19/gQaVOhQokWNHkWaVOlSpk2dPoUaVepUqgxVrV7FmlXrVq4+AwIAOw==\"/>"
            ],
            "text/plain": [
              "<IPython.core.display.HTML object>"
            ]
          },
          "metadata": {},
          "execution_count": 14
        }
      ]
    },
    {
      "cell_type": "code",
      "metadata": {
        "colab": {
          "base_uri": "https://localhost:8080/",
          "height": 421
        },
        "id": "OjkkeWdkUrp8",
        "outputId": "db7f66ef-1eb1-47c6-9c96-c92eed5b9ac3"
      },
      "source": [
        "import tensorflow_docs.vis.embed as embed\n",
        "embed.embed_file(image_file)"
      ],
      "execution_count": null,
      "outputs": [
        {
          "output_type": "execute_result",
          "data": {
            "text/html": [
              "<img src=\"data:image/gif;base64,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\"/>"
            ],
            "text/plain": [
              "<IPython.core.display.HTML object>"
            ]
          },
          "metadata": {},
          "execution_count": 15
        }
      ]
    },
    {
      "cell_type": "code",
      "metadata": {
        "id": "qhmQ8m9iYJQY"
      },
      "source": [
        ""
      ],
      "execution_count": null,
      "outputs": []
    }
  ]
}