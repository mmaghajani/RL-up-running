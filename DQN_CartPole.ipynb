{
  "nbformat": 4,
  "nbformat_minor": 0,
  "metadata": {
    "kernelspec": {
      "display_name": "Python 3",
      "language": "python",
      "name": "python3"
    },
    "language_info": {
      "codemirror_mode": {
        "name": "ipython",
        "version": 3
      },
      "file_extension": ".py",
      "mimetype": "text/x-python",
      "name": "python",
      "nbconvert_exporter": "python",
      "pygments_lexer": "ipython3",
      "version": "3.8.3"
    },
    "colab": {
      "name": "DQN_CartPole.ipynb",
      "provenance": [],
      "include_colab_link": true
    }
  },
  "cells": [
    {
      "cell_type": "markdown",
      "metadata": {
        "id": "view-in-github",
        "colab_type": "text"
      },
      "source": [
        "<a href=\"https://colab.research.google.com/github/mmaghajani/RL-up-running/blob/main/DQN_CartPole.ipynb\" target=\"_parent\"><img src=\"https://colab.research.google.com/assets/colab-badge.svg\" alt=\"Open In Colab\"/></a>"
      ]
    },
    {
      "cell_type": "markdown",
      "metadata": {
        "id": "Ad_4GmqUKxyS"
      },
      "source": [
        "### Setup"
      ]
    },
    {
      "cell_type": "code",
      "metadata": {
        "colab": {
          "base_uri": "https://localhost:8080/"
        },
        "id": "JKo6D8skK0SD",
        "outputId": "31757432-7ec4-42e3-b137-d0e0ba15bd16"
      },
      "source": [
        "!pip install -q mujoco_py==2.0.2.8\n",
        "!pip install -q 'gym[all]'"
      ],
      "execution_count": 1,
      "outputs": [
        {
          "output_type": "stream",
          "name": "stdout",
          "text": [
            "\u001b[K     |████████████████████████████████| 4.0 MB 3.7 MB/s \n",
            "\u001b[K     |████████████████████████████████| 204 kB 58.5 MB/s \n",
            "\u001b[K     |████████████████████████████████| 448 kB 5.1 MB/s \n",
            "\u001b[K     |████████████████████████████████| 120 kB 38.7 MB/s \n",
            "\u001b[?25h  Building wheel for mujoco-py (setup.py) ... \u001b[?25lerror\n",
            "\u001b[31m  ERROR: Failed building wheel for mujoco-py\u001b[0m\n",
            "\u001b[?25h    Running setup.py install for mujoco-py ... \u001b[?25l\u001b[?25herror\n",
            "\u001b[31mERROR: Command errored out with exit status 1: /usr/bin/python3 -u -c 'import io, os, sys, setuptools, tokenize; sys.argv[0] = '\"'\"'/tmp/pip-install-3novxe2o/mujoco-py_712b8ee22a954fec972c0b93782f10aa/setup.py'\"'\"'; __file__='\"'\"'/tmp/pip-install-3novxe2o/mujoco-py_712b8ee22a954fec972c0b93782f10aa/setup.py'\"'\"';f = getattr(tokenize, '\"'\"'open'\"'\"', open)(__file__) if os.path.exists(__file__) else io.StringIO('\"'\"'from setuptools import setup; setup()'\"'\"');code = f.read().replace('\"'\"'\\r\\n'\"'\"', '\"'\"'\\n'\"'\"');f.close();exec(compile(code, __file__, '\"'\"'exec'\"'\"'))' install --record /tmp/pip-record-979w7o5o/install-record.txt --single-version-externally-managed --compile --install-headers /usr/local/include/python3.7/mujoco-py Check the logs for full command output.\u001b[0m\n"
          ]
        }
      ]
    },
    {
      "cell_type": "code",
      "metadata": {
        "id": "BQuFPlkTKduo"
      },
      "source": [
        "import numpy as np\n",
        "import tensorflow as tf\n",
        "from tensorflow import keras\n",
        "from tensorflow.keras.optimizers import Adam\n",
        "from tensorflow.keras.models import load_model"
      ],
      "execution_count": 2,
      "outputs": []
    },
    {
      "cell_type": "markdown",
      "metadata": {
        "id": "g2vvMsyTLPCE"
      },
      "source": [
        "### Replay Buffer"
      ]
    },
    {
      "cell_type": "code",
      "metadata": {
        "id": "QfBjciU0Kduq"
      },
      "source": [
        "class ReplayBuffer():\n",
        "    def __init__(self,mem_size,input_dim):\n",
        "        self.mem_size = mem_size\n",
        "        self.mem_cntr = 0\n",
        "        self.state_memory = np.zeros((self.mem_size,*input_dim),dtype=np.float32)\n",
        "        self.new_state_memory = np.zeros((self.mem_size,*input_dim),dtype=np.float32)\n",
        "        self.action_memory = np.zeros(self.mem_size,dtype=np.int32)\n",
        "        self.reward_memory =  np.zeros(self.mem_size,dtype=np.float32)\n",
        "        self.terminal_memory = np.zeros(self.mem_size,dtype=np.int32)\n",
        "        \n",
        "    def store_transition(self,state,action,reward,next_state,done):\n",
        "        index = self.mem_cntr % self.mem_size\n",
        "        self.state_memory[index] = state\n",
        "        self.new_state_memory[index] = next_state\n",
        "        self.action_memory[index] = action \n",
        "        self.reward_memory[index] = reward \n",
        "        self.terminal_memory[index] = 1-int(done)\n",
        "        self.mem_cntr +=1\n",
        "        \n",
        "    def sample_buffer(self,batch_size):\n",
        "        max_mem = min(self.mem_cntr,self.mem_size)\n",
        "        batch = np.random.choice(max_mem,batch_size,replace=False)\n",
        "        \n",
        "        states = self.state_memory[batch] \n",
        "        next_states = self.new_state_memory[batch] \n",
        "        actions = self.action_memory[batch] \n",
        "        rewards = self.reward_memory[batch] \n",
        "        terminals = self.terminal_memory[batch]\n",
        "        return states,actions,rewards,next_states,terminals\n",
        "    \n",
        "        \n",
        "        \n",
        "        "
      ],
      "execution_count": 3,
      "outputs": []
    },
    {
      "cell_type": "markdown",
      "metadata": {
        "id": "Oa4_tftDLXH_"
      },
      "source": [
        "### Build Deep-q Network"
      ]
    },
    {
      "cell_type": "code",
      "metadata": {
        "id": "iMqPXfSuKdur"
      },
      "source": [
        "def build_dqn(lr,n_actions,input_dims,fc1_dims,fc2_dims):\n",
        "    model = keras.Sequential()\n",
        "    model.add(keras.layers.Dense(fc1_dims,activation='relu'))\n",
        "    model.add(keras.layers.Dense(fc2_dims,activation='relu'))\n",
        "    model.add(keras.layers.Dense(n_actions,activation=None))\n",
        "    model.compile(optimizer=Adam(learning_rate=lr),loss='mean_squared_error')\n",
        "    \n",
        "    return model"
      ],
      "execution_count": 4,
      "outputs": []
    },
    {
      "cell_type": "code",
      "metadata": {
        "id": "xsF8bTK8Kdus"
      },
      "source": [
        "class Agent():\n",
        "\n",
        "    def __init__(self,lr,gamma,n_actions,epsilone,batch_size,input_dims,epsilone_dec=0.001\n",
        "                ,epsilone_end=0.01,mem_size=1000000,fname='dqn_cartpole_model.h5'):\n",
        "        self.action_space = [i for i in range(n_actions)]\n",
        "        self.gamma =gamma\n",
        "        self.epsilone = epsilone\n",
        "        self.eps_min = epsilone_end\n",
        "        self.eps_dec = epsilone_dec\n",
        "        self.batch_size = batch_size\n",
        "        self.model_file =fname\n",
        "        self.memory = ReplayBuffer(mem_size,input_dims)\n",
        "        self.q_eval = build_dqn(lr,n_actions,input_dims,256,256)\n",
        "        \n",
        "    def store_transition(self,state,action,reward,next_state,done):\n",
        "        self.memory.store_transition(state,action,reward,next_state,done)\n",
        "        \n",
        "    def choose_action(self,observation):\n",
        "        if np.random.random() < self.epsilone:\n",
        "            action = np.random.choice(self.action_space)\n",
        "        else:\n",
        "            state = np.array([observation])#add dimention\n",
        "            actions = self.q_eval.predict([state])\n",
        "            action = np.argmax(actions)\n",
        "            \n",
        "        return action\n",
        "    \n",
        "    def learn(self):\n",
        "        if self.memory.mem_cntr < self.batch_size:\n",
        "            return\n",
        "        \n",
        "        states,actions,rewards,next_states,terminals=\\\n",
        "        self.memory.sample_buffer(self.batch_size)\n",
        "        \n",
        "        q_eval =self.q_eval.predict(states)\n",
        "        q_next = self.q_eval.predict(next_states)\n",
        "        \n",
        "        q_target = np.copy(q_eval)\n",
        "        batch_index = np.arange(self.batch_size,dtype=np.int32)\n",
        "        q_target[batch_index,actions]=reward+terminals*self.gamma*np.max(q_next,axis=1)\n",
        "        \n",
        "        self.q_eval.train_on_batch(states,q_target)\n",
        "        self.epsilone = self.epsilone-self.eps_dec if self.epsilone > self.eps_min else self.eps_min\n",
        "        # if self.epsilone > self.eps_min:\n",
        "        #     self.epsilone *= self.eps_dec       \n",
        "    def save_model(self):\n",
        "        self.q_eval.save(self.model_file)\n",
        "        \n",
        "    def load_model(self):\n",
        "        self.q_eval = load_model(self.model_file)\n",
        "        "
      ],
      "execution_count": 5,
      "outputs": []
    },
    {
      "cell_type": "code",
      "metadata": {
        "colab": {
          "base_uri": "https://localhost:8080/"
        },
        "id": "bXmIMqYkKdut",
        "outputId": "c717caf6-a1b4-4388-b594-be6f6495673d"
      },
      "source": [
        "\n",
        "import gym\n",
        "\n",
        "if __name__ == '__main__':\n",
        "    tf.compat.v1.disable_eager_execution()\n",
        "    env = gym.make('CartPole-v0')\n",
        "    lr = 0.001\n",
        "    n_games = 500\n",
        "    agent=Agent(gamma = 0.99,epsilone=1,lr=lr,input_dims=env.observation_space.shape,\n",
        "               n_actions=env.action_space.n,mem_size=1000000,batch_size=64,epsilone_end=0.01)\n",
        "    \n",
        "    scores = []\n",
        "    eps_history = []\n",
        "    for i in range(n_games):\n",
        "        done=False\n",
        "        score =0\n",
        "        observation = env.reset()\n",
        "        while not done:\n",
        "            action =agent.choose_action(observation)\n",
        "            observation_, reward, done, info = env.step(action)\n",
        "            # if not done :\n",
        "            #     reward = reward\n",
        "            # else:\n",
        "            #     reward = -100\n",
        "            score +=reward\n",
        "            print(reward)\n",
        "            agent.store_transition(observation,action,reward,observation_,done)\n",
        "            \n",
        "            observation = observation_\n",
        "            \n",
        "            agent.learn()\n",
        "\n",
        "            # score += 1\n",
        "            \n",
        "        eps_history.append(agent.epsilone)\n",
        "        scores.append(score)\n",
        "        \n",
        "        avg_score = np.mean(scores[-100:])\n",
        "        print('episode: ',i,'score %.2f' % score,\n",
        "             'average_score %.2f' % avg_score,\n",
        "             'epsilone %.2f' % agent.epsilone)\n",
        "        if i% 20 ==10:\n",
        "            agent.save_model()\n",
        "        if avg_score > 190:\n",
        "            break\n",
        "        "
      ],
      "execution_count": 6,
      "outputs": [
        {
          "output_type": "stream",
          "name": "stdout",
          "text": [
            "episode:  0 score 17.00 average_score 17.00 epsilone 1.00\n",
            "episode:  1 score 15.00 average_score 16.00 epsilone 1.00\n",
            "episode:  2 score 13.00 average_score 15.00 epsilone 1.00\n",
            "episode:  3 score 13.00 average_score 14.50 epsilone 1.00\n"
          ]
        },
        {
          "output_type": "stream",
          "name": "stderr",
          "text": [
            "/usr/local/lib/python3.7/dist-packages/keras/engine/training.py:2470: UserWarning: `Model.state_updates` will be removed in a future version. This property should not be used in TensorFlow 2.0, as `updates` are applied automatically.\n",
            "  warnings.warn('`Model.state_updates` will be removed in a future version. '\n"
          ]
        },
        {
          "output_type": "stream",
          "name": "stdout",
          "text": [
            "episode:  4 score 42.00 average_score 20.00 epsilone 0.96\n",
            "episode:  5 score 9.00 average_score 18.17 epsilone 0.95\n",
            "episode:  6 score 15.00 average_score 17.71 epsilone 0.94\n",
            "episode:  7 score 32.00 average_score 19.50 epsilone 0.91\n",
            "episode:  8 score 31.00 average_score 20.78 epsilone 0.88\n",
            "episode:  9 score 15.00 average_score 20.20 epsilone 0.86\n",
            "episode:  10 score 10.00 average_score 19.27 epsilone 0.85\n",
            "episode:  11 score 19.00 average_score 19.25 epsilone 0.83\n",
            "episode:  12 score 12.00 average_score 18.69 epsilone 0.82\n",
            "episode:  13 score 21.00 average_score 18.86 epsilone 0.80\n",
            "episode:  14 score 15.00 average_score 18.60 epsilone 0.78\n",
            "episode:  15 score 9.00 average_score 18.00 epsilone 0.77\n",
            "episode:  16 score 14.00 average_score 17.76 epsilone 0.76\n",
            "episode:  17 score 10.00 average_score 17.33 epsilone 0.75\n",
            "episode:  18 score 20.00 average_score 17.47 epsilone 0.73\n",
            "episode:  19 score 16.00 average_score 17.40 epsilone 0.71\n",
            "episode:  20 score 24.00 average_score 17.71 epsilone 0.69\n",
            "episode:  21 score 20.00 average_score 17.82 epsilone 0.67\n",
            "episode:  22 score 51.00 average_score 19.26 epsilone 0.62\n",
            "episode:  23 score 30.00 average_score 19.71 epsilone 0.59\n",
            "episode:  24 score 24.00 average_score 19.88 epsilone 0.57\n",
            "episode:  25 score 15.00 average_score 19.69 epsilone 0.55\n",
            "episode:  26 score 16.00 average_score 19.56 epsilone 0.53\n",
            "episode:  27 score 10.00 average_score 19.21 epsilone 0.52\n",
            "episode:  28 score 11.00 average_score 18.93 epsilone 0.51\n",
            "episode:  29 score 18.00 average_score 18.90 epsilone 0.50\n",
            "episode:  30 score 9.00 average_score 18.58 epsilone 0.49\n",
            "episode:  31 score 18.00 average_score 18.56 epsilone 0.47\n",
            "episode:  32 score 11.00 average_score 18.33 epsilone 0.46\n",
            "episode:  33 score 14.00 average_score 18.21 epsilone 0.44\n",
            "episode:  34 score 20.00 average_score 18.26 epsilone 0.42\n",
            "episode:  35 score 16.00 average_score 18.19 epsilone 0.41\n",
            "episode:  36 score 11.00 average_score 18.00 epsilone 0.40\n",
            "episode:  37 score 10.00 average_score 17.79 epsilone 0.39\n",
            "episode:  38 score 12.00 average_score 17.64 epsilone 0.37\n",
            "episode:  39 score 13.00 average_score 17.52 epsilone 0.36\n",
            "episode:  40 score 10.00 average_score 17.34 epsilone 0.35\n",
            "episode:  41 score 9.00 average_score 17.14 epsilone 0.34\n",
            "episode:  42 score 10.00 average_score 16.98 epsilone 0.33\n",
            "episode:  43 score 10.00 average_score 16.82 epsilone 0.32\n",
            "episode:  44 score 11.00 average_score 16.69 epsilone 0.31\n",
            "episode:  45 score 9.00 average_score 16.52 epsilone 0.30\n",
            "episode:  46 score 11.00 average_score 16.40 epsilone 0.29\n",
            "episode:  47 score 9.00 average_score 16.25 epsilone 0.28\n",
            "episode:  48 score 9.00 average_score 16.10 epsilone 0.27\n",
            "episode:  49 score 10.00 average_score 15.98 epsilone 0.26\n",
            "episode:  50 score 11.00 average_score 15.88 epsilone 0.25\n",
            "episode:  51 score 13.00 average_score 15.83 epsilone 0.24\n",
            "episode:  52 score 8.00 average_score 15.68 epsilone 0.23\n",
            "episode:  53 score 8.00 average_score 15.54 epsilone 0.22\n",
            "episode:  54 score 11.00 average_score 15.45 epsilone 0.21\n",
            "episode:  55 score 13.00 average_score 15.41 epsilone 0.20\n",
            "episode:  56 score 10.00 average_score 15.32 epsilone 0.19\n",
            "episode:  57 score 13.00 average_score 15.28 epsilone 0.18\n",
            "episode:  58 score 9.00 average_score 15.17 epsilone 0.17\n",
            "episode:  59 score 10.00 average_score 15.08 epsilone 0.16\n",
            "episode:  60 score 8.00 average_score 14.97 epsilone 0.15\n",
            "episode:  61 score 9.00 average_score 14.87 epsilone 0.14\n",
            "episode:  62 score 9.00 average_score 14.78 epsilone 0.13\n",
            "episode:  63 score 11.00 average_score 14.72 epsilone 0.12\n",
            "episode:  64 score 9.00 average_score 14.63 epsilone 0.11\n",
            "episode:  65 score 10.00 average_score 14.56 epsilone 0.10\n",
            "episode:  66 score 15.00 average_score 14.57 epsilone 0.09\n",
            "episode:  67 score 11.00 average_score 14.51 epsilone 0.08\n",
            "episode:  68 score 12.00 average_score 14.48 epsilone 0.06\n",
            "episode:  69 score 9.00 average_score 14.40 epsilone 0.05\n",
            "episode:  70 score 9.00 average_score 14.32 epsilone 0.05\n",
            "episode:  71 score 9.00 average_score 14.25 epsilone 0.04\n",
            "episode:  72 score 8.00 average_score 14.16 epsilone 0.03\n",
            "episode:  73 score 9.00 average_score 14.09 epsilone 0.02\n",
            "episode:  74 score 10.00 average_score 14.04 epsilone 0.01\n",
            "episode:  75 score 10.00 average_score 13.99 epsilone 0.01\n",
            "episode:  76 score 9.00 average_score 13.92 epsilone 0.01\n",
            "episode:  77 score 12.00 average_score 13.90 epsilone 0.01\n",
            "episode:  78 score 9.00 average_score 13.84 epsilone 0.01\n",
            "episode:  79 score 10.00 average_score 13.79 epsilone 0.01\n",
            "episode:  80 score 9.00 average_score 13.73 epsilone 0.01\n",
            "episode:  81 score 8.00 average_score 13.66 epsilone 0.01\n",
            "episode:  82 score 10.00 average_score 13.61 epsilone 0.01\n",
            "episode:  83 score 9.00 average_score 13.56 epsilone 0.01\n",
            "episode:  84 score 8.00 average_score 13.49 epsilone 0.01\n",
            "episode:  85 score 10.00 average_score 13.45 epsilone 0.01\n",
            "episode:  86 score 10.00 average_score 13.41 epsilone 0.01\n",
            "episode:  87 score 9.00 average_score 13.36 epsilone 0.01\n",
            "episode:  88 score 10.00 average_score 13.33 epsilone 0.01\n",
            "episode:  89 score 10.00 average_score 13.29 epsilone 0.01\n",
            "episode:  90 score 12.00 average_score 13.27 epsilone 0.01\n",
            "episode:  91 score 9.00 average_score 13.23 epsilone 0.01\n",
            "episode:  92 score 9.00 average_score 13.18 epsilone 0.01\n",
            "episode:  93 score 8.00 average_score 13.13 epsilone 0.01\n",
            "episode:  94 score 10.00 average_score 13.09 epsilone 0.01\n",
            "episode:  95 score 9.00 average_score 13.05 epsilone 0.01\n",
            "episode:  96 score 8.00 average_score 13.00 epsilone 0.01\n",
            "episode:  97 score 10.00 average_score 12.97 epsilone 0.01\n",
            "episode:  98 score 9.00 average_score 12.93 epsilone 0.01\n",
            "episode:  99 score 11.00 average_score 12.91 epsilone 0.01\n",
            "episode:  100 score 9.00 average_score 12.83 epsilone 0.01\n",
            "episode:  101 score 10.00 average_score 12.78 epsilone 0.01\n",
            "episode:  102 score 10.00 average_score 12.75 epsilone 0.01\n",
            "episode:  103 score 8.00 average_score 12.70 epsilone 0.01\n",
            "episode:  104 score 10.00 average_score 12.38 epsilone 0.01\n",
            "episode:  105 score 10.00 average_score 12.39 epsilone 0.01\n",
            "episode:  106 score 10.00 average_score 12.34 epsilone 0.01\n",
            "episode:  107 score 9.00 average_score 12.11 epsilone 0.01\n",
            "episode:  108 score 10.00 average_score 11.90 epsilone 0.01\n",
            "episode:  109 score 10.00 average_score 11.85 epsilone 0.01\n",
            "episode:  110 score 10.00 average_score 11.85 epsilone 0.01\n",
            "episode:  111 score 9.00 average_score 11.75 epsilone 0.01\n",
            "episode:  112 score 11.00 average_score 11.74 epsilone 0.01\n",
            "episode:  113 score 9.00 average_score 11.62 epsilone 0.01\n",
            "episode:  114 score 9.00 average_score 11.56 epsilone 0.01\n",
            "episode:  115 score 8.00 average_score 11.55 epsilone 0.01\n",
            "episode:  116 score 9.00 average_score 11.50 epsilone 0.01\n",
            "episode:  117 score 10.00 average_score 11.50 epsilone 0.01\n",
            "episode:  118 score 9.00 average_score 11.39 epsilone 0.01\n",
            "episode:  119 score 10.00 average_score 11.33 epsilone 0.01\n",
            "episode:  120 score 9.00 average_score 11.18 epsilone 0.01\n",
            "episode:  121 score 9.00 average_score 11.07 epsilone 0.01\n",
            "episode:  122 score 8.00 average_score 10.64 epsilone 0.01\n",
            "episode:  123 score 10.00 average_score 10.44 epsilone 0.01\n",
            "episode:  124 score 9.00 average_score 10.29 epsilone 0.01\n",
            "episode:  125 score 10.00 average_score 10.24 epsilone 0.01\n",
            "episode:  126 score 9.00 average_score 10.17 epsilone 0.01\n",
            "episode:  127 score 9.00 average_score 10.16 epsilone 0.01\n",
            "episode:  128 score 10.00 average_score 10.15 epsilone 0.01\n",
            "episode:  129 score 9.00 average_score 10.06 epsilone 0.01\n",
            "episode:  130 score 10.00 average_score 10.07 epsilone 0.01\n",
            "episode:  131 score 10.00 average_score 9.99 epsilone 0.01\n",
            "episode:  132 score 10.00 average_score 9.98 epsilone 0.01\n",
            "episode:  133 score 9.00 average_score 9.93 epsilone 0.01\n",
            "episode:  134 score 9.00 average_score 9.82 epsilone 0.01\n",
            "episode:  135 score 9.00 average_score 9.75 epsilone 0.01\n",
            "episode:  136 score 10.00 average_score 9.74 epsilone 0.01\n",
            "episode:  137 score 9.00 average_score 9.73 epsilone 0.01\n",
            "episode:  138 score 9.00 average_score 9.70 epsilone 0.01\n",
            "episode:  139 score 10.00 average_score 9.67 epsilone 0.01\n",
            "episode:  140 score 9.00 average_score 9.66 epsilone 0.01\n",
            "episode:  141 score 9.00 average_score 9.66 epsilone 0.01\n",
            "episode:  142 score 9.00 average_score 9.65 epsilone 0.01\n",
            "episode:  143 score 8.00 average_score 9.63 epsilone 0.01\n",
            "episode:  144 score 10.00 average_score 9.62 epsilone 0.01\n",
            "episode:  145 score 10.00 average_score 9.63 epsilone 0.01\n",
            "episode:  146 score 11.00 average_score 9.63 epsilone 0.01\n",
            "episode:  147 score 8.00 average_score 9.62 epsilone 0.01\n",
            "episode:  148 score 9.00 average_score 9.62 epsilone 0.01\n",
            "episode:  149 score 8.00 average_score 9.60 epsilone 0.01\n",
            "episode:  150 score 10.00 average_score 9.59 epsilone 0.01\n",
            "episode:  151 score 9.00 average_score 9.55 epsilone 0.01\n",
            "episode:  152 score 9.00 average_score 9.56 epsilone 0.01\n",
            "episode:  153 score 10.00 average_score 9.58 epsilone 0.01\n",
            "episode:  154 score 10.00 average_score 9.57 epsilone 0.01\n",
            "episode:  155 score 10.00 average_score 9.54 epsilone 0.01\n",
            "episode:  156 score 9.00 average_score 9.53 epsilone 0.01\n",
            "episode:  157 score 10.00 average_score 9.50 epsilone 0.01\n",
            "episode:  158 score 9.00 average_score 9.50 epsilone 0.01\n",
            "episode:  159 score 10.00 average_score 9.50 epsilone 0.01\n",
            "episode:  160 score 10.00 average_score 9.52 epsilone 0.01\n",
            "episode:  161 score 10.00 average_score 9.53 epsilone 0.01\n",
            "episode:  162 score 8.00 average_score 9.52 epsilone 0.01\n",
            "episode:  163 score 10.00 average_score 9.51 epsilone 0.01\n",
            "episode:  164 score 9.00 average_score 9.51 epsilone 0.01\n",
            "episode:  165 score 8.00 average_score 9.49 epsilone 0.01\n",
            "episode:  166 score 10.00 average_score 9.44 epsilone 0.01\n",
            "episode:  167 score 9.00 average_score 9.42 epsilone 0.01\n",
            "episode:  168 score 10.00 average_score 9.40 epsilone 0.01\n",
            "episode:  169 score 10.00 average_score 9.41 epsilone 0.01\n",
            "episode:  170 score 9.00 average_score 9.41 epsilone 0.01\n",
            "episode:  171 score 9.00 average_score 9.41 epsilone 0.01\n",
            "episode:  172 score 9.00 average_score 9.42 epsilone 0.01\n",
            "episode:  173 score 9.00 average_score 9.42 epsilone 0.01\n",
            "episode:  174 score 10.00 average_score 9.42 epsilone 0.01\n",
            "episode:  175 score 10.00 average_score 9.42 epsilone 0.01\n",
            "episode:  176 score 10.00 average_score 9.43 epsilone 0.01\n",
            "episode:  177 score 10.00 average_score 9.41 epsilone 0.01\n",
            "episode:  178 score 8.00 average_score 9.40 epsilone 0.01\n",
            "episode:  179 score 10.00 average_score 9.40 epsilone 0.01\n",
            "episode:  180 score 9.00 average_score 9.40 epsilone 0.01\n",
            "episode:  181 score 10.00 average_score 9.42 epsilone 0.01\n",
            "episode:  182 score 11.00 average_score 9.43 epsilone 0.01\n",
            "episode:  183 score 10.00 average_score 9.44 epsilone 0.01\n",
            "episode:  184 score 9.00 average_score 9.45 epsilone 0.01\n",
            "episode:  185 score 9.00 average_score 9.44 epsilone 0.01\n",
            "episode:  186 score 12.00 average_score 9.46 epsilone 0.01\n",
            "episode:  187 score 11.00 average_score 9.48 epsilone 0.01\n",
            "episode:  188 score 10.00 average_score 9.48 epsilone 0.01\n",
            "episode:  189 score 9.00 average_score 9.47 epsilone 0.01\n",
            "episode:  190 score 10.00 average_score 9.45 epsilone 0.01\n",
            "episode:  191 score 8.00 average_score 9.44 epsilone 0.01\n",
            "episode:  192 score 8.00 average_score 9.43 epsilone 0.01\n",
            "episode:  193 score 9.00 average_score 9.44 epsilone 0.01\n",
            "episode:  194 score 10.00 average_score 9.44 epsilone 0.01\n",
            "episode:  195 score 9.00 average_score 9.44 epsilone 0.01\n",
            "episode:  196 score 8.00 average_score 9.44 epsilone 0.01\n",
            "episode:  197 score 8.00 average_score 9.42 epsilone 0.01\n",
            "episode:  198 score 10.00 average_score 9.43 epsilone 0.01\n",
            "episode:  199 score 10.00 average_score 9.42 epsilone 0.01\n",
            "episode:  200 score 9.00 average_score 9.42 epsilone 0.01\n",
            "episode:  201 score 8.00 average_score 9.40 epsilone 0.01\n",
            "episode:  202 score 9.00 average_score 9.39 epsilone 0.01\n",
            "episode:  203 score 10.00 average_score 9.41 epsilone 0.01\n",
            "episode:  204 score 10.00 average_score 9.41 epsilone 0.01\n",
            "episode:  205 score 9.00 average_score 9.40 epsilone 0.01\n",
            "episode:  206 score 9.00 average_score 9.39 epsilone 0.01\n",
            "episode:  207 score 9.00 average_score 9.39 epsilone 0.01\n",
            "episode:  208 score 8.00 average_score 9.37 epsilone 0.01\n",
            "episode:  209 score 8.00 average_score 9.35 epsilone 0.01\n",
            "episode:  210 score 10.00 average_score 9.35 epsilone 0.01\n",
            "episode:  211 score 10.00 average_score 9.36 epsilone 0.01\n",
            "episode:  212 score 10.00 average_score 9.35 epsilone 0.01\n",
            "episode:  213 score 10.00 average_score 9.36 epsilone 0.01\n",
            "episode:  214 score 10.00 average_score 9.37 epsilone 0.01\n",
            "episode:  215 score 8.00 average_score 9.37 epsilone 0.01\n",
            "episode:  216 score 10.00 average_score 9.38 epsilone 0.01\n",
            "episode:  217 score 10.00 average_score 9.38 epsilone 0.01\n",
            "episode:  218 score 10.00 average_score 9.39 epsilone 0.01\n",
            "episode:  219 score 9.00 average_score 9.38 epsilone 0.01\n",
            "episode:  220 score 10.00 average_score 9.39 epsilone 0.01\n",
            "episode:  221 score 10.00 average_score 9.40 epsilone 0.01\n",
            "episode:  222 score 11.00 average_score 9.43 epsilone 0.01\n",
            "episode:  223 score 9.00 average_score 9.42 epsilone 0.01\n",
            "episode:  224 score 8.00 average_score 9.41 epsilone 0.01\n",
            "episode:  225 score 10.00 average_score 9.41 epsilone 0.01\n",
            "episode:  226 score 9.00 average_score 9.41 epsilone 0.01\n",
            "episode:  227 score 9.00 average_score 9.41 epsilone 0.01\n",
            "episode:  228 score 9.00 average_score 9.40 epsilone 0.01\n",
            "episode:  229 score 10.00 average_score 9.41 epsilone 0.01\n",
            "episode:  230 score 10.00 average_score 9.41 epsilone 0.01\n",
            "episode:  231 score 9.00 average_score 9.40 epsilone 0.01\n",
            "episode:  232 score 9.00 average_score 9.39 epsilone 0.01\n",
            "episode:  233 score 10.00 average_score 9.40 epsilone 0.01\n",
            "episode:  234 score 9.00 average_score 9.40 epsilone 0.01\n",
            "episode:  235 score 10.00 average_score 9.41 epsilone 0.01\n",
            "episode:  236 score 10.00 average_score 9.41 epsilone 0.01\n",
            "episode:  237 score 9.00 average_score 9.41 epsilone 0.01\n",
            "episode:  238 score 9.00 average_score 9.41 epsilone 0.01\n",
            "episode:  239 score 9.00 average_score 9.40 epsilone 0.01\n",
            "episode:  240 score 10.00 average_score 9.41 epsilone 0.01\n",
            "episode:  241 score 9.00 average_score 9.41 epsilone 0.01\n",
            "episode:  242 score 9.00 average_score 9.41 epsilone 0.01\n",
            "episode:  243 score 10.00 average_score 9.43 epsilone 0.01\n",
            "episode:  244 score 9.00 average_score 9.42 epsilone 0.01\n",
            "episode:  245 score 9.00 average_score 9.41 epsilone 0.01\n",
            "episode:  246 score 9.00 average_score 9.39 epsilone 0.01\n",
            "episode:  247 score 9.00 average_score 9.40 epsilone 0.01\n",
            "episode:  248 score 9.00 average_score 9.40 epsilone 0.01\n",
            "episode:  249 score 8.00 average_score 9.40 epsilone 0.01\n",
            "episode:  250 score 10.00 average_score 9.40 epsilone 0.01\n",
            "episode:  251 score 9.00 average_score 9.40 epsilone 0.01\n",
            "episode:  252 score 9.00 average_score 9.40 epsilone 0.01\n",
            "episode:  253 score 9.00 average_score 9.39 epsilone 0.01\n",
            "episode:  254 score 8.00 average_score 9.37 epsilone 0.01\n",
            "episode:  255 score 8.00 average_score 9.35 epsilone 0.01\n",
            "episode:  256 score 8.00 average_score 9.34 epsilone 0.01\n",
            "episode:  257 score 9.00 average_score 9.33 epsilone 0.01\n",
            "episode:  258 score 9.00 average_score 9.33 epsilone 0.01\n",
            "episode:  259 score 10.00 average_score 9.33 epsilone 0.01\n",
            "episode:  260 score 11.00 average_score 9.34 epsilone 0.01\n",
            "episode:  261 score 9.00 average_score 9.33 epsilone 0.01\n",
            "episode:  262 score 8.00 average_score 9.33 epsilone 0.01\n",
            "episode:  263 score 8.00 average_score 9.31 epsilone 0.01\n",
            "episode:  264 score 9.00 average_score 9.31 epsilone 0.01\n",
            "episode:  265 score 9.00 average_score 9.32 epsilone 0.01\n",
            "episode:  266 score 10.00 average_score 9.32 epsilone 0.01\n",
            "episode:  267 score 9.00 average_score 9.32 epsilone 0.01\n",
            "episode:  268 score 9.00 average_score 9.31 epsilone 0.01\n",
            "episode:  269 score 8.00 average_score 9.29 epsilone 0.01\n",
            "episode:  270 score 9.00 average_score 9.29 epsilone 0.01\n",
            "episode:  271 score 9.00 average_score 9.29 epsilone 0.01\n",
            "episode:  272 score 10.00 average_score 9.30 epsilone 0.01\n",
            "episode:  273 score 9.00 average_score 9.30 epsilone 0.01\n",
            "episode:  274 score 9.00 average_score 9.29 epsilone 0.01\n",
            "episode:  275 score 10.00 average_score 9.29 epsilone 0.01\n",
            "episode:  276 score 10.00 average_score 9.29 epsilone 0.01\n",
            "episode:  277 score 9.00 average_score 9.28 epsilone 0.01\n",
            "episode:  278 score 9.00 average_score 9.29 epsilone 0.01\n",
            "episode:  279 score 9.00 average_score 9.28 epsilone 0.01\n",
            "episode:  280 score 8.00 average_score 9.27 epsilone 0.01\n",
            "episode:  281 score 9.00 average_score 9.26 epsilone 0.01\n",
            "episode:  282 score 10.00 average_score 9.25 epsilone 0.01\n",
            "episode:  283 score 10.00 average_score 9.25 epsilone 0.01\n",
            "episode:  284 score 10.00 average_score 9.26 epsilone 0.01\n",
            "episode:  285 score 9.00 average_score 9.26 epsilone 0.01\n",
            "episode:  286 score 10.00 average_score 9.24 epsilone 0.01\n",
            "episode:  287 score 9.00 average_score 9.22 epsilone 0.01\n",
            "episode:  288 score 10.00 average_score 9.22 epsilone 0.01\n",
            "episode:  289 score 9.00 average_score 9.22 epsilone 0.01\n",
            "episode:  290 score 9.00 average_score 9.21 epsilone 0.01\n",
            "episode:  291 score 10.00 average_score 9.23 epsilone 0.01\n",
            "episode:  292 score 8.00 average_score 9.23 epsilone 0.01\n",
            "episode:  293 score 10.00 average_score 9.24 epsilone 0.01\n",
            "episode:  294 score 9.00 average_score 9.23 epsilone 0.01\n",
            "episode:  295 score 10.00 average_score 9.24 epsilone 0.01\n",
            "episode:  296 score 9.00 average_score 9.25 epsilone 0.01\n",
            "episode:  297 score 10.00 average_score 9.27 epsilone 0.01\n",
            "episode:  298 score 13.00 average_score 9.30 epsilone 0.01\n",
            "episode:  299 score 10.00 average_score 9.30 epsilone 0.01\n",
            "episode:  300 score 10.00 average_score 9.31 epsilone 0.01\n",
            "episode:  301 score 10.00 average_score 9.33 epsilone 0.01\n",
            "episode:  302 score 9.00 average_score 9.33 epsilone 0.01\n",
            "episode:  303 score 9.00 average_score 9.32 epsilone 0.01\n",
            "episode:  304 score 9.00 average_score 9.31 epsilone 0.01\n",
            "episode:  305 score 10.00 average_score 9.32 epsilone 0.01\n",
            "episode:  306 score 8.00 average_score 9.31 epsilone 0.01\n",
            "episode:  307 score 10.00 average_score 9.32 epsilone 0.01\n",
            "episode:  308 score 9.00 average_score 9.33 epsilone 0.01\n",
            "episode:  309 score 10.00 average_score 9.35 epsilone 0.01\n",
            "episode:  310 score 9.00 average_score 9.34 epsilone 0.01\n",
            "episode:  311 score 10.00 average_score 9.34 epsilone 0.01\n",
            "episode:  312 score 9.00 average_score 9.33 epsilone 0.01\n",
            "episode:  313 score 10.00 average_score 9.33 epsilone 0.01\n",
            "episode:  314 score 10.00 average_score 9.33 epsilone 0.01\n",
            "episode:  315 score 10.00 average_score 9.35 epsilone 0.01\n",
            "episode:  316 score 9.00 average_score 9.34 epsilone 0.01\n",
            "episode:  317 score 9.00 average_score 9.33 epsilone 0.01\n",
            "episode:  318 score 10.00 average_score 9.33 epsilone 0.01\n",
            "episode:  319 score 9.00 average_score 9.33 epsilone 0.01\n",
            "episode:  320 score 10.00 average_score 9.33 epsilone 0.01\n",
            "episode:  321 score 10.00 average_score 9.33 epsilone 0.01\n",
            "episode:  322 score 10.00 average_score 9.32 epsilone 0.01\n",
            "episode:  323 score 8.00 average_score 9.31 epsilone 0.01\n",
            "episode:  324 score 9.00 average_score 9.32 epsilone 0.01\n",
            "episode:  325 score 9.00 average_score 9.31 epsilone 0.01\n",
            "episode:  326 score 10.00 average_score 9.32 epsilone 0.01\n",
            "episode:  327 score 10.00 average_score 9.33 epsilone 0.01\n",
            "episode:  328 score 10.00 average_score 9.34 epsilone 0.01\n",
            "episode:  329 score 9.00 average_score 9.33 epsilone 0.01\n",
            "episode:  330 score 9.00 average_score 9.32 epsilone 0.01\n",
            "episode:  331 score 9.00 average_score 9.32 epsilone 0.01\n",
            "episode:  332 score 8.00 average_score 9.31 epsilone 0.01\n",
            "episode:  333 score 10.00 average_score 9.31 epsilone 0.01\n",
            "episode:  334 score 8.00 average_score 9.30 epsilone 0.01\n",
            "episode:  335 score 9.00 average_score 9.29 epsilone 0.01\n",
            "episode:  336 score 9.00 average_score 9.28 epsilone 0.01\n",
            "episode:  337 score 10.00 average_score 9.29 epsilone 0.01\n",
            "episode:  338 score 10.00 average_score 9.30 epsilone 0.01\n",
            "episode:  339 score 10.00 average_score 9.31 epsilone 0.01\n",
            "episode:  340 score 9.00 average_score 9.30 epsilone 0.01\n",
            "episode:  341 score 9.00 average_score 9.30 epsilone 0.01\n",
            "episode:  342 score 10.00 average_score 9.31 epsilone 0.01\n",
            "episode:  343 score 11.00 average_score 9.32 epsilone 0.01\n",
            "episode:  344 score 10.00 average_score 9.33 epsilone 0.01\n",
            "episode:  345 score 9.00 average_score 9.33 epsilone 0.01\n",
            "episode:  346 score 10.00 average_score 9.34 epsilone 0.01\n",
            "episode:  347 score 10.00 average_score 9.35 epsilone 0.01\n",
            "episode:  348 score 10.00 average_score 9.36 epsilone 0.01\n",
            "episode:  349 score 8.00 average_score 9.36 epsilone 0.01\n",
            "episode:  350 score 9.00 average_score 9.35 epsilone 0.01\n",
            "episode:  351 score 10.00 average_score 9.36 epsilone 0.01\n",
            "episode:  352 score 9.00 average_score 9.36 epsilone 0.01\n",
            "episode:  353 score 10.00 average_score 9.37 epsilone 0.01\n",
            "episode:  354 score 9.00 average_score 9.38 epsilone 0.01\n",
            "episode:  355 score 9.00 average_score 9.39 epsilone 0.01\n",
            "episode:  356 score 10.00 average_score 9.41 epsilone 0.01\n",
            "episode:  357 score 10.00 average_score 9.42 epsilone 0.01\n",
            "episode:  358 score 10.00 average_score 9.43 epsilone 0.01\n",
            "episode:  359 score 8.00 average_score 9.41 epsilone 0.01\n",
            "episode:  360 score 9.00 average_score 9.39 epsilone 0.01\n",
            "episode:  361 score 9.00 average_score 9.39 epsilone 0.01\n",
            "episode:  362 score 10.00 average_score 9.41 epsilone 0.01\n",
            "episode:  363 score 8.00 average_score 9.41 epsilone 0.01\n",
            "episode:  364 score 9.00 average_score 9.41 epsilone 0.01\n",
            "episode:  365 score 9.00 average_score 9.41 epsilone 0.01\n",
            "episode:  366 score 10.00 average_score 9.41 epsilone 0.01\n",
            "episode:  367 score 10.00 average_score 9.42 epsilone 0.01\n",
            "episode:  368 score 10.00 average_score 9.43 epsilone 0.01\n",
            "episode:  369 score 10.00 average_score 9.45 epsilone 0.01\n",
            "episode:  370 score 10.00 average_score 9.46 epsilone 0.01\n",
            "episode:  371 score 10.00 average_score 9.47 epsilone 0.01\n",
            "episode:  372 score 10.00 average_score 9.47 epsilone 0.01\n",
            "episode:  373 score 9.00 average_score 9.47 epsilone 0.01\n",
            "episode:  374 score 8.00 average_score 9.46 epsilone 0.01\n",
            "episode:  375 score 9.00 average_score 9.45 epsilone 0.01\n",
            "episode:  376 score 10.00 average_score 9.45 epsilone 0.01\n",
            "episode:  377 score 9.00 average_score 9.45 epsilone 0.01\n",
            "episode:  378 score 10.00 average_score 9.46 epsilone 0.01\n",
            "episode:  379 score 10.00 average_score 9.47 epsilone 0.01\n",
            "episode:  380 score 9.00 average_score 9.48 epsilone 0.01\n",
            "episode:  381 score 9.00 average_score 9.48 epsilone 0.01\n",
            "episode:  382 score 9.00 average_score 9.47 epsilone 0.01\n",
            "episode:  383 score 10.00 average_score 9.47 epsilone 0.01\n",
            "episode:  384 score 10.00 average_score 9.47 epsilone 0.01\n",
            "episode:  385 score 10.00 average_score 9.48 epsilone 0.01\n",
            "episode:  386 score 9.00 average_score 9.47 epsilone 0.01\n",
            "episode:  387 score 9.00 average_score 9.47 epsilone 0.01\n",
            "episode:  388 score 10.00 average_score 9.47 epsilone 0.01\n",
            "episode:  389 score 9.00 average_score 9.47 epsilone 0.01\n",
            "episode:  390 score 8.00 average_score 9.46 epsilone 0.01\n",
            "episode:  391 score 9.00 average_score 9.45 epsilone 0.01\n",
            "episode:  392 score 9.00 average_score 9.46 epsilone 0.01\n",
            "episode:  393 score 8.00 average_score 9.44 epsilone 0.01\n",
            "episode:  394 score 9.00 average_score 9.44 epsilone 0.01\n",
            "episode:  395 score 9.00 average_score 9.43 epsilone 0.01\n",
            "episode:  396 score 10.00 average_score 9.44 epsilone 0.01\n",
            "episode:  397 score 8.00 average_score 9.42 epsilone 0.01\n",
            "episode:  398 score 9.00 average_score 9.38 epsilone 0.01\n",
            "episode:  399 score 9.00 average_score 9.37 epsilone 0.01\n",
            "episode:  400 score 10.00 average_score 9.37 epsilone 0.01\n",
            "episode:  401 score 9.00 average_score 9.36 epsilone 0.01\n",
            "episode:  402 score 9.00 average_score 9.36 epsilone 0.01\n",
            "episode:  403 score 9.00 average_score 9.36 epsilone 0.01\n",
            "episode:  404 score 11.00 average_score 9.38 epsilone 0.01\n",
            "episode:  405 score 9.00 average_score 9.37 epsilone 0.01\n",
            "episode:  406 score 8.00 average_score 9.37 epsilone 0.01\n",
            "episode:  407 score 11.00 average_score 9.38 epsilone 0.01\n",
            "episode:  408 score 10.00 average_score 9.39 epsilone 0.01\n",
            "episode:  409 score 9.00 average_score 9.38 epsilone 0.01\n",
            "episode:  410 score 10.00 average_score 9.39 epsilone 0.01\n",
            "episode:  411 score 10.00 average_score 9.39 epsilone 0.01\n",
            "episode:  412 score 9.00 average_score 9.39 epsilone 0.01\n",
            "episode:  413 score 9.00 average_score 9.38 epsilone 0.01\n",
            "episode:  414 score 10.00 average_score 9.38 epsilone 0.01\n",
            "episode:  415 score 10.00 average_score 9.38 epsilone 0.01\n",
            "episode:  416 score 8.00 average_score 9.37 epsilone 0.01\n",
            "episode:  417 score 9.00 average_score 9.37 epsilone 0.01\n",
            "episode:  418 score 10.00 average_score 9.37 epsilone 0.01\n",
            "episode:  419 score 10.00 average_score 9.38 epsilone 0.01\n",
            "episode:  420 score 10.00 average_score 9.38 epsilone 0.01\n",
            "episode:  421 score 10.00 average_score 9.38 epsilone 0.01\n",
            "episode:  422 score 10.00 average_score 9.38 epsilone 0.01\n",
            "episode:  423 score 10.00 average_score 9.40 epsilone 0.01\n",
            "episode:  424 score 10.00 average_score 9.41 epsilone 0.01\n",
            "episode:  425 score 9.00 average_score 9.41 epsilone 0.01\n",
            "episode:  426 score 10.00 average_score 9.41 epsilone 0.01\n",
            "episode:  427 score 10.00 average_score 9.41 epsilone 0.01\n",
            "episode:  428 score 9.00 average_score 9.40 epsilone 0.01\n",
            "episode:  429 score 9.00 average_score 9.40 epsilone 0.01\n",
            "episode:  430 score 8.00 average_score 9.39 epsilone 0.01\n",
            "episode:  431 score 10.00 average_score 9.40 epsilone 0.01\n",
            "episode:  432 score 9.00 average_score 9.41 epsilone 0.01\n",
            "episode:  433 score 9.00 average_score 9.40 epsilone 0.01\n",
            "episode:  434 score 8.00 average_score 9.40 epsilone 0.01\n",
            "episode:  435 score 10.00 average_score 9.41 epsilone 0.01\n",
            "episode:  436 score 9.00 average_score 9.41 epsilone 0.01\n",
            "episode:  437 score 11.00 average_score 9.42 epsilone 0.01\n",
            "episode:  438 score 9.00 average_score 9.41 epsilone 0.01\n",
            "episode:  439 score 10.00 average_score 9.41 epsilone 0.01\n",
            "episode:  440 score 10.00 average_score 9.42 epsilone 0.01\n",
            "episode:  441 score 10.00 average_score 9.43 epsilone 0.01\n",
            "episode:  442 score 11.00 average_score 9.44 epsilone 0.01\n",
            "episode:  443 score 9.00 average_score 9.42 epsilone 0.01\n",
            "episode:  444 score 11.00 average_score 9.43 epsilone 0.01\n",
            "episode:  445 score 10.00 average_score 9.44 epsilone 0.01\n",
            "episode:  446 score 10.00 average_score 9.44 epsilone 0.01\n",
            "episode:  447 score 9.00 average_score 9.43 epsilone 0.01\n",
            "episode:  448 score 10.00 average_score 9.43 epsilone 0.01\n",
            "episode:  449 score 8.00 average_score 9.43 epsilone 0.01\n",
            "episode:  450 score 8.00 average_score 9.42 epsilone 0.01\n",
            "episode:  451 score 9.00 average_score 9.41 epsilone 0.01\n",
            "episode:  452 score 10.00 average_score 9.42 epsilone 0.01\n",
            "episode:  453 score 10.00 average_score 9.42 epsilone 0.01\n",
            "episode:  454 score 9.00 average_score 9.42 epsilone 0.01\n",
            "episode:  455 score 10.00 average_score 9.43 epsilone 0.01\n",
            "episode:  456 score 10.00 average_score 9.43 epsilone 0.01\n",
            "episode:  457 score 9.00 average_score 9.42 epsilone 0.01\n",
            "episode:  458 score 11.00 average_score 9.43 epsilone 0.01\n",
            "episode:  459 score 9.00 average_score 9.44 epsilone 0.01\n",
            "episode:  460 score 10.00 average_score 9.45 epsilone 0.01\n",
            "episode:  461 score 9.00 average_score 9.45 epsilone 0.01\n",
            "episode:  462 score 9.00 average_score 9.44 epsilone 0.01\n",
            "episode:  463 score 10.00 average_score 9.46 epsilone 0.01\n",
            "episode:  464 score 8.00 average_score 9.45 epsilone 0.01\n",
            "episode:  465 score 10.00 average_score 9.46 epsilone 0.01\n",
            "episode:  466 score 9.00 average_score 9.45 epsilone 0.01\n",
            "episode:  467 score 9.00 average_score 9.44 epsilone 0.01\n",
            "episode:  468 score 10.00 average_score 9.44 epsilone 0.01\n",
            "episode:  469 score 9.00 average_score 9.43 epsilone 0.01\n",
            "episode:  470 score 11.00 average_score 9.44 epsilone 0.01\n",
            "episode:  471 score 9.00 average_score 9.43 epsilone 0.01\n",
            "episode:  472 score 10.00 average_score 9.43 epsilone 0.01\n",
            "episode:  473 score 8.00 average_score 9.42 epsilone 0.01\n",
            "episode:  474 score 9.00 average_score 9.43 epsilone 0.01\n",
            "episode:  475 score 10.00 average_score 9.44 epsilone 0.01\n",
            "episode:  476 score 8.00 average_score 9.42 epsilone 0.01\n",
            "episode:  477 score 11.00 average_score 9.44 epsilone 0.01\n",
            "episode:  478 score 9.00 average_score 9.43 epsilone 0.01\n",
            "episode:  479 score 10.00 average_score 9.43 epsilone 0.01\n",
            "episode:  480 score 10.00 average_score 9.44 epsilone 0.01\n",
            "episode:  481 score 9.00 average_score 9.44 epsilone 0.01\n",
            "episode:  482 score 10.00 average_score 9.45 epsilone 0.01\n",
            "episode:  483 score 9.00 average_score 9.44 epsilone 0.01\n",
            "episode:  484 score 10.00 average_score 9.44 epsilone 0.01\n",
            "episode:  485 score 10.00 average_score 9.44 epsilone 0.01\n",
            "episode:  486 score 9.00 average_score 9.44 epsilone 0.01\n",
            "episode:  487 score 8.00 average_score 9.43 epsilone 0.01\n",
            "episode:  488 score 9.00 average_score 9.42 epsilone 0.01\n",
            "episode:  489 score 10.00 average_score 9.43 epsilone 0.01\n",
            "episode:  490 score 10.00 average_score 9.45 epsilone 0.01\n",
            "episode:  491 score 10.00 average_score 9.46 epsilone 0.01\n",
            "episode:  492 score 9.00 average_score 9.46 epsilone 0.01\n",
            "episode:  493 score 9.00 average_score 9.47 epsilone 0.01\n",
            "episode:  494 score 8.00 average_score 9.46 epsilone 0.01\n",
            "episode:  495 score 10.00 average_score 9.47 epsilone 0.01\n",
            "episode:  496 score 9.00 average_score 9.46 epsilone 0.01\n",
            "episode:  497 score 9.00 average_score 9.47 epsilone 0.01\n",
            "episode:  498 score 10.00 average_score 9.48 epsilone 0.01\n",
            "episode:  499 score 10.00 average_score 9.49 epsilone 0.01\n"
          ]
        }
      ]
    },
    {
      "cell_type": "code",
      "metadata": {
        "id": "3umvfaZbRe4a"
      },
      "source": [
        "import pandas as pd"
      ],
      "execution_count": 7,
      "outputs": []
    },
    {
      "cell_type": "code",
      "metadata": {
        "colab": {
          "base_uri": "https://localhost:8080/",
          "height": 282
        },
        "id": "neOEdyNARqmi",
        "outputId": "704fe33d-2342-4c23-fa56-4ea04321d2dd"
      },
      "source": [
        "pd.Series(scores).plot()"
      ],
      "execution_count": 8,
      "outputs": [
        {
          "output_type": "execute_result",
          "data": {
            "text/plain": [
              "<matplotlib.axes._subplots.AxesSubplot at 0x7f14079c6c50>"
            ]
          },
          "metadata": {},
          "execution_count": 8
        },
        {
          "output_type": "display_data",
          "data": {
            "image/png": "[encoded data removed]",
            "text/plain": [
              "<Figure size 432x288 with 1 Axes>"
            ]
          },
          "metadata": {
            "needs_background": "light"
          }
        }
      ]
    },
    {
      "cell_type": "code",
      "metadata": {
        "colab": {
          "base_uri": "https://localhost:8080/"
        },
        "id": "flOPdViaKduw",
        "outputId": "833de598-1f9f-4dbf-f36f-072d58b5127b"
      },
      "source": [
        "env.observation_space"
      ],
      "execution_count": 9,
      "outputs": [
        {
          "output_type": "execute_result",
          "data": {
            "text/plain": [
              "Box(-3.4028234663852886e+38, 3.4028234663852886e+38, (4,), float32)"
            ]
          },
          "metadata": {},
          "execution_count": 9
        }
      ]
    },
    {
      "cell_type": "code",
      "metadata": {
        "colab": {
          "base_uri": "https://localhost:8080/"
        },
        "id": "jZ9_Fk6nKdux",
        "outputId": "7ffaedc6-de67-4d99-86f1-b4f0d8fca935"
      },
      "source": [
        "print(env.reset())"
      ],
      "execution_count": 10,
      "outputs": [
        {
          "output_type": "stream",
          "name": "stdout",
          "text": [
            "[-0.0056831  -0.0062962  -0.02275845  0.04098642]\n"
          ]
        }
      ]
    },
    {
      "cell_type": "code",
      "metadata": {
        "id": "mr8LPcgcS6ns"
      },
      "source": [
        "%%bash\n",
        "# Install additional packages for visualization\n",
        "sudo apt-get install -y xvfb python-opengl > /dev/null 2>&1\n",
        "pip install pyvirtualdisplay > /dev/null 2>&1\n",
        "pip install git+https://github.com/tensorflow/docs > /dev/null 2>&1"
      ],
      "execution_count": 11,
      "outputs": []
    },
    {
      "cell_type": "code",
      "metadata": {
        "id": "xfDakuNhU5gC"
      },
      "source": [
        "dummy_agent = Agent(gamma = 0.99,epsilone=1,lr=lr,input_dims=env.observation_space.shape,\n",
        "               n_actions=env.action_space.n,mem_size=1000000,batch_size=64,epsilone_end=0.01)"
      ],
      "execution_count": 12,
      "outputs": []
    },
    {
      "cell_type": "code",
      "metadata": {
        "id": "8npUMLiiKduy"
      },
      "source": [
        "# Render an episode and save as a GIF file\n",
        "\n",
        "from IPython import display as ipythondisplay\n",
        "from PIL import Image\n",
        "from pyvirtualdisplay import Display\n",
        "\n",
        "\n",
        "display = Display(visible=0, size=(400, 300))\n",
        "display.start()\n",
        "\n",
        "\n",
        "def render_episode(env: gym.Env, model: tf.keras.Model, max_steps: int): \n",
        "  screen = env.render(mode='rgb_array')\n",
        "  im = Image.fromarray(screen)\n",
        "\n",
        "  images = [im]\n",
        "  \n",
        "  observation = env.reset()\n",
        "  for i in range(1, max_steps + 1):\n",
        "    # state = tf.expand_dims(state, 0)\n",
        "    action = agent.choose_action(observation)\n",
        "\n",
        "    observation, _, done, _ = env.step(action)\n",
        "    # state = tf.constant(state, dtype=tf.float32)\n",
        "\n",
        "    # Render screen every 10 steps\n",
        "    if i % 10 == 0:\n",
        "      screen = env.render(mode='rgb_array')\n",
        "      images.append(Image.fromarray(screen))\n",
        "  \n",
        "    if done:\n",
        "      break\n",
        "  \n",
        "  return images\n",
        "\n",
        "\n",
        "# Save GIF image\n",
        "images = render_episode(env, dummy_agent, 10000)\n",
        "image_file = 'cartpole-v0.gif'\n",
        "# loop=0: loop forever, duration=1: play each frame for 1ms\n",
        "images[0].save(\n",
        "    image_file, save_all=True, append_images=images[1:], loop=0, duration=1)"
      ],
      "execution_count": 13,
      "outputs": []
    },
    {
      "cell_type": "code",
      "metadata": {
        "colab": {
          "base_uri": "https://localhost:8080/",
          "height": 421
        },
        "id": "ghXqbMiMSx8F",
        "outputId": "bbd6d473-a14a-4ba0-b764-e62ae4b84e06"
      },
      "source": [
        "import tensorflow_docs.vis.embed as embed\n",
        "embed.embed_file(image_file)"
      ],
      "execution_count": 14,
      "outputs": [
        {
          "output_type": "execute_result",
          "data": {
            "text/html": [
              "<img src=\"data:image/gif;base64,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\"/>"
            ],
            "text/plain": [
              "<IPython.core.display.HTML object>"
            ]
          },
          "metadata": {},
          "execution_count": 14
        }
      ]
    },
    {
      "cell_type": "code",
      "metadata": {
        "colab": {
          "base_uri": "https://localhost:8080/",
          "height": 421
        },
        "id": "OjkkeWdkUrp8",
        "outputId": "db7f66ef-1eb1-47c6-9c96-c92eed5b9ac3"
      },
      "source": [
        "import tensorflow_docs.vis.embed as embed\n",
        "embed.embed_file(image_file)"
      ],
      "execution_count": 15,
      "outputs": [
        {
          "output_type": "execute_result",
          "data": {
            "text/html": [
              "<img src=\"data:image/gif;base64,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\"/>"
            ],
            "text/plain": [
              "<IPython.core.display.HTML object>"
            ]
          },
          "metadata": {},
          "execution_count": 15
        }
      ]
    },
    {
      "cell_type": "code",
      "metadata": {
        "id": "qhmQ8m9iYJQY"
      },
      "source": [
        ""
      ],
      "execution_count": 15,
      "outputs": []
    }
  ]
}