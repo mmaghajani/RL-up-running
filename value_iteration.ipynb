{
  "nbformat": 4,
  "nbformat_minor": 0,
  "metadata": {
    "kernelspec": {
      "display_name": "Python 3",
      "language": "python",
      "name": "python3"
    },
    "language_info": {
      "codemirror_mode": {
        "name": "ipython",
        "version": 3
      },
      "file_extension": ".py",
      "mimetype": "text/x-python",
      "name": "python",
      "nbconvert_exporter": "python",
      "pygments_lexer": "ipython3",
      "version": "3.8.3"
    },
    "colab": {
      "name": "value_iteration.ipynb",
      "provenance": [],
      "include_colab_link": true
    }
  },
  "cells": [
    {
      "cell_type": "markdown",
      "metadata": {
        "id": "view-in-github",
        "colab_type": "text"
      },
      "source": [
        "<a href=\"https://colab.research.google.com/github/mmaghajani/RL-up-running/blob/main/value_iteration.ipynb\" target=\"_parent\"><img src=\"https://colab.research.google.com/assets/colab-badge.svg\" alt=\"Open In Colab\"/></a>"
      ]
    },
    {
      "cell_type": "code",
      "metadata": {
        "id": "YGkxVb6ZiooS"
      },
      "source": [
        "from __future__ import print_function, division\n",
        "from builtins import range\n",
        "import numpy as np"
      ],
      "execution_count": 1,
      "outputs": []
    },
    {
      "cell_type": "markdown",
      "metadata": {
        "id": "MHJyPkntiooY"
      },
      "source": [
        "## make Gridworld"
      ]
    },
    {
      "cell_type": "code",
      "metadata": {
        "id": "ODVDiCW6iooZ"
      },
      "source": [
        "\n",
        "ACTION_SPACE = ('U', 'D', 'L', 'R')\n",
        "\n",
        "\n",
        "class Grid:  # Environment\n",
        "\n",
        "    def __init__(self,rows,cols,start):\n",
        "        self.rows = rows\n",
        "        self.cols = cols\n",
        "        self.i = start[0]\n",
        "        self.j = start[1]\n",
        "\n",
        "    def set(self, rewards, actions):\n",
        "\n",
        "        self.rewards = rewards\n",
        "        self.actions = actions\n",
        "\n",
        "    def set_state(self, s):\n",
        "        self.i = s[0]\n",
        "        self.j = s[1]\n",
        "\n",
        "    def current_state(self):\n",
        "        return (self.i, self.j)\n",
        "\n",
        "    def is_terminal(self, s):\n",
        "        return s not in self.actions\n",
        "\n",
        "    def get_next_state(self, s, a):\n",
        "\n",
        "    # this answers: where would I end up if I perform action 'a' in state 's'?\n",
        "\n",
        "        (i, j) = (s[0], s[1])\n",
        "\n",
        "    # if this action moves you somewhere else, then it will be in this dictionary\n",
        "\n",
        "        if a in self.actions[(i, j)]:\n",
        "            if a == 'U':\n",
        "                i -= 1\n",
        "            elif a == 'D':\n",
        "                i += 1\n",
        "            elif a == 'R':\n",
        "                j += 1\n",
        "            elif a == 'L':\n",
        "                j -= 1\n",
        "        return (i, j)\n",
        "\n",
        "    def all_states(self):\n",
        "        return set(self.actions.keys()) | set(self.rewards.keys())\n",
        "\n",
        "\n",
        "\n"
      ],
      "execution_count": 2,
      "outputs": []
    },
    {
      "cell_type": "markdown",
      "metadata": {
        "id": "cJGi860BiooZ"
      },
      "source": [
        "## Define Grid 3*4"
      ]
    },
    {
      "cell_type": "code",
      "metadata": {
        "id": "ngG2n45liooZ"
      },
      "source": [
        "def standard_grid():\n",
        "\n",
        "  # .  .  .  1\n",
        "  # .  x  . -1\n",
        "  # s  .  .  .\n",
        "\n",
        "    grid = Grid(3, 4, (2, 0))\n",
        "    rewards = {(0, 3): 1, (1, 3): -1}\n",
        "    actions = {\n",
        "        (0, 0): ('D', 'R'),\n",
        "        (0, 1): ('L', 'R'),\n",
        "        (0, 2): ('L', 'D', 'R'),\n",
        "        (1, 0): ('U', 'D'),\n",
        "        (1, 2): ('U', 'D', 'R'),\n",
        "        (2, 0): ('U', 'R'),\n",
        "        (2, 1): ('L', 'R'),\n",
        "        (2, 2): ('L', 'R', 'U'),\n",
        "        (2, 3): ('L', 'U'),\n",
        "        }\n",
        "    grid.set(rewards, actions)\n",
        "    return grid"
      ],
      "execution_count": 3,
      "outputs": []
    },
    {
      "cell_type": "markdown",
      "metadata": {
        "id": "u8Je5kHoiooa"
      },
      "source": [
        "## Display Grid"
      ]
    },
    {
      "cell_type": "code",
      "metadata": {
        "id": "0HbLMcGIiooa"
      },
      "source": [
        "def print_values(V, g):\n",
        "    for i in range(g.rows):\n",
        "        print(\"---------------------------\")\n",
        "        for j in range(g.cols):\n",
        "            v = V.get((i, j), 0)\n",
        "            if v >= 0:\n",
        "                print(\" %.2f|\" % v, end=\"\")\n",
        "            else:\n",
        "                print(\"%.2f|\" % v, end=\"\")  \n",
        "        print(\"\")\n",
        "\n",
        "\n",
        "def print_policy(P, g):\n",
        "    for i in range(g.rows):\n",
        "        print(\"---------------------------\")\n",
        "        for j in range(g.cols):\n",
        "            a = P.get((i, j), \" \")\n",
        "            print(\"  %s  |\" % a, end=\"\")\n",
        "        print(\"\")\n"
      ],
      "execution_count": 4,
      "outputs": []
    },
    {
      "cell_type": "markdown",
      "metadata": {
        "id": "89iZ-aT7iooa"
      },
      "source": [
        "## evaluate fix policy and find optimal value functions"
      ]
    },
    {
      "cell_type": "code",
      "metadata": {
        "colab": {
          "base_uri": "https://localhost:8080/"
        },
        "id": "lKN9w7OAioob",
        "outputId": "8baf80cc-24fa-4ec7-a29b-3d584e6a9801"
      },
      "source": [
        "grid = standard_grid()\n",
        "\n",
        "### fixed policy ###\n",
        "policy = {}\n",
        "for state in grid.actions.keys():\n",
        "    policy[state] = np.random.choice(ACTION_SPACE)\n",
        "print_policy(policy, grid)\n",
        "\n",
        "\n",
        "    "
      ],
      "execution_count": 5,
      "outputs": [
        {
          "output_type": "stream",
          "name": "stdout",
          "text": [
            "---------------------------\n",
            "  D  |  R  |  D  |     |\n",
            "---------------------------\n",
            "  L  |     |  R  |     |\n",
            "---------------------------\n",
            "  L  |  D  |  R  |  R  |\n"
          ]
        }
      ]
    },
    {
      "cell_type": "code",
      "metadata": {
        "colab": {
          "base_uri": "https://localhost:8080/"
        },
        "id": "GP5IvlHiioob",
        "outputId": "750664d6-e5c5-4dca-cf75-48b792622906"
      },
      "source": [
        "# initialize V(s) = 0\n",
        "V = {}\n",
        "for s in grid.all_states():\n",
        "    V[s] = 0\n",
        "\n",
        "print_values(V, grid)"
      ],
      "execution_count": 6,
      "outputs": [
        {
          "output_type": "stream",
          "name": "stdout",
          "text": [
            "---------------------------\n",
            " 0.00| 0.00| 0.00| 0.00|\n",
            "---------------------------\n",
            " 0.00| 0.00| 0.00| 0.00|\n",
            "---------------------------\n",
            " 0.00| 0.00| 0.00| 0.00|\n"
          ]
        }
      ]
    },
    {
      "cell_type": "markdown",
      "metadata": {
        "id": "_D_3O528iooc"
      },
      "source": [
        "## Reward and Transition probability"
      ]
    },
    {
      "cell_type": "code",
      "metadata": {
        "colab": {
          "base_uri": "https://localhost:8080/"
        },
        "id": "OlwtZgEviooc",
        "outputId": "608a4bb3-330a-45fc-f7d1-3aba75ec9627"
      },
      "source": [
        "transition_probs = {}\n",
        "rewards = {}\n",
        "\n",
        "for row in range(grid.rows):\n",
        "    for col in range(grid.cols):\n",
        "        state = (row, col)\n",
        "        if not grid.is_terminal(state):\n",
        "            for action in ACTION_SPACE:\n",
        "                next_state = grid.get_next_state(state, action)\n",
        "                transition_probs[(state, action, next_state)] = 1\n",
        "                if next_state in grid.rewards:\n",
        "                    rewards[(state, action, next_state)] = grid.rewards[next_state]\n",
        "\n",
        "\n",
        "print(rewards)\n",
        "print(\"---------------\")\n",
        "print(transition_probs)"
      ],
      "execution_count": 7,
      "outputs": [
        {
          "output_type": "stream",
          "name": "stdout",
          "text": [
            "{((0, 2), 'R', (0, 3)): 1, ((1, 2), 'R', (1, 3)): -1, ((2, 3), 'U', (1, 3)): -1}\n",
            "---------------\n",
            "{((0, 0), 'U', (0, 0)): 1, ((0, 0), 'D', (1, 0)): 1, ((0, 0), 'L', (0, 0)): 1, ((0, 0), 'R', (0, 1)): 1, ((0, 1), 'U', (0, 1)): 1, ((0, 1), 'D', (0, 1)): 1, ((0, 1), 'L', (0, 0)): 1, ((0, 1), 'R', (0, 2)): 1, ((0, 2), 'U', (0, 2)): 1, ((0, 2), 'D', (1, 2)): 1, ((0, 2), 'L', (0, 1)): 1, ((0, 2), 'R', (0, 3)): 1, ((1, 0), 'U', (0, 0)): 1, ((1, 0), 'D', (2, 0)): 1, ((1, 0), 'L', (1, 0)): 1, ((1, 0), 'R', (1, 0)): 1, ((1, 2), 'U', (0, 2)): 1, ((1, 2), 'D', (2, 2)): 1, ((1, 2), 'L', (1, 2)): 1, ((1, 2), 'R', (1, 3)): 1, ((2, 0), 'U', (1, 0)): 1, ((2, 0), 'D', (2, 0)): 1, ((2, 0), 'L', (2, 0)): 1, ((2, 0), 'R', (2, 1)): 1, ((2, 1), 'U', (2, 1)): 1, ((2, 1), 'D', (2, 1)): 1, ((2, 1), 'L', (2, 0)): 1, ((2, 1), 'R', (2, 2)): 1, ((2, 2), 'U', (1, 2)): 1, ((2, 2), 'D', (2, 2)): 1, ((2, 2), 'L', (2, 1)): 1, ((2, 2), 'R', (2, 3)): 1, ((2, 3), 'U', (1, 3)): 1, ((2, 3), 'D', (2, 3)): 1, ((2, 3), 'L', (2, 2)): 1, ((2, 3), 'R', (2, 3)): 1}\n"
          ]
        }
      ]
    },
    {
      "cell_type": "markdown",
      "metadata": {
        "id": "ZzzYptNTiooc"
      },
      "source": [
        "## Policy evaluation using bootstrapping"
      ]
    },
    {
      "cell_type": "code",
      "metadata": {
        "colab": {
          "base_uri": "https://localhost:8080/"
        },
        "id": "dlwn8lgPiood",
        "outputId": "314f1d2f-bdba-4f46-984a-b26495a1f693"
      },
      "source": [
        "itteration = 0\n",
        "\n",
        "# ### fixed policy ###\n",
        "# policy = {\n",
        "# (2, 0): 'U',\n",
        "# (1, 0): 'U',\n",
        "# (0, 0): 'R',\n",
        "# (0, 1): 'R',\n",
        "# (0, 2): 'R',\n",
        "# (1, 2): 'R',# this is not optimal\n",
        "# (2, 1): 'R',\n",
        "# (2, 2): 'U',\n",
        "# (2, 3): 'L',\n",
        "# (1, 1): 'X',\n",
        "# (1, 3): 'H',\n",
        "# (0, 3): 'G'\n",
        "# }\n",
        "\n",
        "import math\n",
        "\n",
        "delta, theta = 100, 0.001\n",
        "while delta > theta:\n",
        "    delta = 0\n",
        "\n",
        "    for state in grid.actions.keys():\n",
        "        best_value = float('-inf')\n",
        "        v = V[state]\n",
        "        for action in ACTION_SPACE:\n",
        "\n",
        "            next_state = grid.get_next_state(state, action)\n",
        "            r = rewards.get((state, action, next_state), 0)\n",
        "            value_of_next_state = transition_probs.get((state, action, next_state), 0) * (r + 0.9 * V[next_state])\n",
        "            if value_of_next_state > best_value:\n",
        "                best_action = action\n",
        "                best_value = value_of_next_state\n",
        "\n",
        "        V[state] = best_value\n",
        "        delta = max(delta, math.fabs(v - V[state]))\n",
        "\n",
        "        policy[state] = best_action\n",
        "\n",
        "print_policy(policy, grid)"
      ],
      "execution_count": 9,
      "outputs": [
        {
          "output_type": "stream",
          "name": "stdout",
          "text": [
            "---------------------------\n",
            "  R  |  R  |  R  |     |\n",
            "---------------------------\n",
            "  U  |     |  U  |     |\n",
            "---------------------------\n",
            "  U  |  R  |  U  |  L  |\n"
          ]
        }
      ]
    },
    {
      "cell_type": "code",
      "metadata": {
        "id": "Wn9um11riooe",
        "colab": {
          "base_uri": "https://localhost:8080/"
        },
        "outputId": "efdba184-d0a4-4ecb-e507-1c1c6b5fed30"
      },
      "source": [
        "print_values(V, grid)"
      ],
      "execution_count": 10,
      "outputs": [
        {
          "output_type": "stream",
          "name": "stdout",
          "text": [
            "---------------------------\n",
            " 0.81| 0.90| 1.00| 0.00|\n",
            "---------------------------\n",
            " 0.73| 0.00| 0.90| 0.00|\n",
            "---------------------------\n",
            " 0.66| 0.73| 0.81| 0.73|\n"
          ]
        }
      ]
    },
    {
      "cell_type": "code",
      "metadata": {
        "id": "PjtrQ-QrHK9H"
      },
      "source": [
        ""
      ],
      "execution_count": 10,
      "outputs": []
    }
  ]
}